{
 "cells": [
  {
   "cell_type": "code",
   "execution_count": 1,
   "id": "afb97c25",
   "metadata": {},
   "outputs": [],
   "source": [
    "import pandas as pd"
   ]
  },
  {
   "cell_type": "code",
   "execution_count": 2,
   "id": "0892cf68",
   "metadata": {},
   "outputs": [],
   "source": [
    "test = pd.read_csv('test.csv')"
   ]
  },
  {
   "cell_type": "code",
   "execution_count": 3,
   "id": "3991f415",
   "metadata": {},
   "outputs": [],
   "source": [
    "sample = pd.read_csv('sample.csv')"
   ]
  },
  {
   "cell_type": "code",
   "execution_count": 4,
   "id": "0b797a4c",
   "metadata": {},
   "outputs": [],
   "source": [
    "train = pd.read_csv('train.csv')"
   ]
  },
  {
   "cell_type": "code",
   "execution_count": 5,
   "id": "2834c2e7",
   "metadata": {},
   "outputs": [
    {
     "name": "stdout",
     "output_type": "stream",
     "text": [
      "전체 행 개수 : 1200000\n",
      "id                           0\n",
      "Age                      18705\n",
      "Gender                       0\n",
      "Annual Income            44949\n",
      "Marital Status           18529\n",
      "Number of Dependents    109672\n",
      "Education Level              0\n",
      "Occupation              358075\n",
      "Health Score             74076\n",
      "Location                     0\n",
      "Policy Type                  0\n",
      "Previous Claims         364029\n",
      "Vehicle Age                  6\n",
      "Credit Score            137882\n",
      "Insurance Duration           1\n",
      "Policy Start Date            0\n",
      "Customer Feedback        77824\n",
      "Smoking Status               0\n",
      "Exercise Frequency           0\n",
      "Property Type                0\n",
      "Premium Amount               0\n",
      "dtype: int64\n"
     ]
    }
   ],
   "source": [
    "print(\"전체 행 개수 :\", len(train))\n",
    "print(train.isna().sum())     "
   ]
  },
  {
   "cell_type": "markdown",
   "id": "ce64008e",
   "metadata": {},
   "source": [
    "## 데이터 전처리(나머지 변수, 공통)"
   ]
  },
  {
   "cell_type": "code",
   "execution_count": 36,
   "id": "d17ba10f",
   "metadata": {},
   "outputs": [],
   "source": [
    "# Number of Dependents: 구간화(Binning) & 결측 플래그 추가\n",
    "\n",
    "# 결측 플래그 생성\n",
    "train['Number_of_Dependents_missing'] = train['Number of Dependents'].isnull().astype(int)\n",
    "\n",
    "# 구간화 예시 (0명, 1~2명, 3명 이상)\n",
    "bins = [-np.inf, 0, 2, np.inf]\n",
    "labels = ['0', '1-2', '3+']\n",
    "train['Number_of_Dependents_bin'] = pd.cut(train['Number of Dependents'], bins=bins, labels=labels)"
   ]
  },
  {
   "cell_type": "code",
   "execution_count": 37,
   "id": "a40b465a",
   "metadata": {},
   "outputs": [],
   "source": [
    "# 나이에 대한 결측 플래그 및 중앙값 대체 예시\n",
    "train['Age_missing'] = train['Age'].isnull().astype(int)\n",
    "train['Age'] = train['Age'].fillna(train['Age'].median())\n",
    "\n",
    "# Annual Income\n",
    "train['Annual_Income_missing'] = train['Annual Income'].isnull().astype(int)\n",
    "train['Annual Income'] = train['Annual Income'].fillna(train['Annual Income'].median())\n",
    "\n",
    "# Health Score\n",
    "train['Health_Score_missing'] = train['Health Score'].isnull().astype(int)\n",
    "train['Health Score'] = train['Health Score'].fillna(train['Health Score'].median())\n",
    "\n",
    "# Credit Score\n",
    "train['Credit_Score_missing'] = train['Credit Score'].isnull().astype(int)\n",
    "train['Credit Score'] = train['Credit Score'].fillna('Missing')\n",
    "\n",
    "# Customer Feedback\n",
    "train['Customer_Feedback_missing'] = train['Customer Feedback'].isnull().astype(int)\n",
    "train['Customer Feedback'] = train['Customer Feedback'].fillna('No Feedback')"
   ]
  },
  {
   "cell_type": "code",
   "execution_count": 38,
   "id": "903f5cd6",
   "metadata": {},
   "outputs": [],
   "source": [
    "# Vehicle Age 결측 행 삭제\n",
    "train = train[train['Vehicle Age'].notnull()]"
   ]
  },
  {
   "cell_type": "code",
   "execution_count": 39,
   "id": "ecad3d16",
   "metadata": {},
   "outputs": [],
   "source": [
    "# Insurance Duration 결측 행 삭제\n",
    "train = train[train['Insurance Duration'].notnull()]"
   ]
  },
  {
   "cell_type": "code",
   "execution_count": 40,
   "id": "645e830e",
   "metadata": {},
   "outputs": [
    {
     "data": {
      "text/html": [
       "<div>\n",
       "<style scoped>\n",
       "    .dataframe tbody tr th:only-of-type {\n",
       "        vertical-align: middle;\n",
       "    }\n",
       "\n",
       "    .dataframe tbody tr th {\n",
       "        vertical-align: top;\n",
       "    }\n",
       "\n",
       "    .dataframe thead th {\n",
       "        text-align: right;\n",
       "    }\n",
       "</style>\n",
       "<table border=\"1\" class=\"dataframe\">\n",
       "  <thead>\n",
       "    <tr style=\"text-align: right;\">\n",
       "      <th></th>\n",
       "      <th>id</th>\n",
       "      <th>Age</th>\n",
       "      <th>Gender</th>\n",
       "      <th>Annual Income</th>\n",
       "      <th>Marital Status</th>\n",
       "      <th>Number of Dependents</th>\n",
       "      <th>Education Level</th>\n",
       "      <th>Occupation</th>\n",
       "      <th>Health Score</th>\n",
       "      <th>Location</th>\n",
       "      <th>...</th>\n",
       "      <th>Exercise Frequency</th>\n",
       "      <th>Property Type</th>\n",
       "      <th>Premium Amount</th>\n",
       "      <th>Number_of_Dependents_missing</th>\n",
       "      <th>Number_of_Dependents_bin</th>\n",
       "      <th>Age_missing</th>\n",
       "      <th>Annual_Income_missing</th>\n",
       "      <th>Health_Score_missing</th>\n",
       "      <th>Credit_Score_missing</th>\n",
       "      <th>Customer_Feedback_missing</th>\n",
       "    </tr>\n",
       "  </thead>\n",
       "  <tbody>\n",
       "    <tr>\n",
       "      <th>0</th>\n",
       "      <td>0</td>\n",
       "      <td>19.0</td>\n",
       "      <td>Female</td>\n",
       "      <td>10049.0</td>\n",
       "      <td>Married</td>\n",
       "      <td>1.0</td>\n",
       "      <td>Bachelor's</td>\n",
       "      <td>Self-Employed</td>\n",
       "      <td>22.598761</td>\n",
       "      <td>Urban</td>\n",
       "      <td>...</td>\n",
       "      <td>Weekly</td>\n",
       "      <td>House</td>\n",
       "      <td>2869.0</td>\n",
       "      <td>0</td>\n",
       "      <td>1-2</td>\n",
       "      <td>0</td>\n",
       "      <td>0</td>\n",
       "      <td>0</td>\n",
       "      <td>0</td>\n",
       "      <td>0</td>\n",
       "    </tr>\n",
       "    <tr>\n",
       "      <th>1</th>\n",
       "      <td>1</td>\n",
       "      <td>39.0</td>\n",
       "      <td>Female</td>\n",
       "      <td>31678.0</td>\n",
       "      <td>Divorced</td>\n",
       "      <td>3.0</td>\n",
       "      <td>Master's</td>\n",
       "      <td>NaN</td>\n",
       "      <td>15.569731</td>\n",
       "      <td>Rural</td>\n",
       "      <td>...</td>\n",
       "      <td>Monthly</td>\n",
       "      <td>House</td>\n",
       "      <td>1483.0</td>\n",
       "      <td>0</td>\n",
       "      <td>3+</td>\n",
       "      <td>0</td>\n",
       "      <td>0</td>\n",
       "      <td>0</td>\n",
       "      <td>0</td>\n",
       "      <td>0</td>\n",
       "    </tr>\n",
       "    <tr>\n",
       "      <th>2</th>\n",
       "      <td>2</td>\n",
       "      <td>23.0</td>\n",
       "      <td>Male</td>\n",
       "      <td>25602.0</td>\n",
       "      <td>Divorced</td>\n",
       "      <td>3.0</td>\n",
       "      <td>High School</td>\n",
       "      <td>Self-Employed</td>\n",
       "      <td>47.177549</td>\n",
       "      <td>Suburban</td>\n",
       "      <td>...</td>\n",
       "      <td>Weekly</td>\n",
       "      <td>House</td>\n",
       "      <td>567.0</td>\n",
       "      <td>0</td>\n",
       "      <td>3+</td>\n",
       "      <td>0</td>\n",
       "      <td>0</td>\n",
       "      <td>0</td>\n",
       "      <td>0</td>\n",
       "      <td>0</td>\n",
       "    </tr>\n",
       "    <tr>\n",
       "      <th>3</th>\n",
       "      <td>3</td>\n",
       "      <td>21.0</td>\n",
       "      <td>Male</td>\n",
       "      <td>141855.0</td>\n",
       "      <td>Married</td>\n",
       "      <td>2.0</td>\n",
       "      <td>Bachelor's</td>\n",
       "      <td>NaN</td>\n",
       "      <td>10.938144</td>\n",
       "      <td>Rural</td>\n",
       "      <td>...</td>\n",
       "      <td>Daily</td>\n",
       "      <td>Apartment</td>\n",
       "      <td>765.0</td>\n",
       "      <td>0</td>\n",
       "      <td>1-2</td>\n",
       "      <td>0</td>\n",
       "      <td>0</td>\n",
       "      <td>0</td>\n",
       "      <td>0</td>\n",
       "      <td>0</td>\n",
       "    </tr>\n",
       "    <tr>\n",
       "      <th>4</th>\n",
       "      <td>4</td>\n",
       "      <td>21.0</td>\n",
       "      <td>Male</td>\n",
       "      <td>39651.0</td>\n",
       "      <td>Single</td>\n",
       "      <td>1.0</td>\n",
       "      <td>Bachelor's</td>\n",
       "      <td>Self-Employed</td>\n",
       "      <td>20.376094</td>\n",
       "      <td>Rural</td>\n",
       "      <td>...</td>\n",
       "      <td>Weekly</td>\n",
       "      <td>House</td>\n",
       "      <td>2022.0</td>\n",
       "      <td>0</td>\n",
       "      <td>1-2</td>\n",
       "      <td>0</td>\n",
       "      <td>0</td>\n",
       "      <td>0</td>\n",
       "      <td>0</td>\n",
       "      <td>0</td>\n",
       "    </tr>\n",
       "  </tbody>\n",
       "</table>\n",
       "<p>5 rows × 28 columns</p>\n",
       "</div>"
      ],
      "text/plain": [
       "   id   Age  Gender  Annual Income Marital Status  Number of Dependents  \\\n",
       "0   0  19.0  Female        10049.0        Married                   1.0   \n",
       "1   1  39.0  Female        31678.0       Divorced                   3.0   \n",
       "2   2  23.0    Male        25602.0       Divorced                   3.0   \n",
       "3   3  21.0    Male       141855.0        Married                   2.0   \n",
       "4   4  21.0    Male        39651.0         Single                   1.0   \n",
       "\n",
       "  Education Level     Occupation  Health Score  Location  ...  \\\n",
       "0      Bachelor's  Self-Employed     22.598761     Urban  ...   \n",
       "1        Master's            NaN     15.569731     Rural  ...   \n",
       "2     High School  Self-Employed     47.177549  Suburban  ...   \n",
       "3      Bachelor's            NaN     10.938144     Rural  ...   \n",
       "4      Bachelor's  Self-Employed     20.376094     Rural  ...   \n",
       "\n",
       "  Exercise Frequency  Property Type  Premium Amount  \\\n",
       "0             Weekly          House          2869.0   \n",
       "1            Monthly          House          1483.0   \n",
       "2             Weekly          House           567.0   \n",
       "3              Daily      Apartment           765.0   \n",
       "4             Weekly          House          2022.0   \n",
       "\n",
       "  Number_of_Dependents_missing  Number_of_Dependents_bin Age_missing  \\\n",
       "0                            0                       1-2           0   \n",
       "1                            0                        3+           0   \n",
       "2                            0                        3+           0   \n",
       "3                            0                       1-2           0   \n",
       "4                            0                       1-2           0   \n",
       "\n",
       "  Annual_Income_missing Health_Score_missing Credit_Score_missing  \\\n",
       "0                     0                    0                    0   \n",
       "1                     0                    0                    0   \n",
       "2                     0                    0                    0   \n",
       "3                     0                    0                    0   \n",
       "4                     0                    0                    0   \n",
       "\n",
       "  Customer_Feedback_missing  \n",
       "0                         0  \n",
       "1                         0  \n",
       "2                         0  \n",
       "3                         0  \n",
       "4                         0  \n",
       "\n",
       "[5 rows x 28 columns]"
      ]
     },
     "execution_count": 40,
     "metadata": {},
     "output_type": "execute_result"
    }
   ],
   "source": [
    "train.head()"
   ]
  },
  {
   "cell_type": "markdown",
   "id": "9ab0dd32",
   "metadata": {},
   "source": [
    "### 상관계수"
   ]
  },
  {
   "cell_type": "code",
   "execution_count": 41,
   "id": "24097c82",
   "metadata": {},
   "outputs": [
    {
     "name": "stdout",
     "output_type": "stream",
     "text": [
      "zsh:1: /Users/t2023-m0149/Documents/GitHub/4gun4_new_project/alex/bin/pip: bad interpreter: /Users/t2023-m0149/Documents/GitHub/4gun4_new_project-1/alex/bin/python3: no such file or directory\n"
     ]
    }
   ],
   "source": [
    "!pip install seaborn matplotlib\n"
   ]
  },
  {
   "cell_type": "code",
   "execution_count": 35,
   "id": "bb086747",
   "metadata": {},
   "outputs": [
    {
     "ename": "ModuleNotFoundError",
     "evalue": "No module named 'seaborn'",
     "output_type": "error",
     "traceback": [
      "\u001b[0;31m---------------------------------------------------------------------------\u001b[0m",
      "\u001b[0;31mModuleNotFoundError\u001b[0m                       Traceback (most recent call last)",
      "Cell \u001b[0;32mIn[35], line 2\u001b[0m\n\u001b[1;32m      1\u001b[0m \u001b[38;5;66;03m# 1) 수치형-수치형: 피어슨 상관계수 + 히트맵\u001b[39;00m\n\u001b[0;32m----> 2\u001b[0m \u001b[38;5;28;01mimport\u001b[39;00m\u001b[38;5;250m \u001b[39m\u001b[38;5;21;01mseaborn\u001b[39;00m\u001b[38;5;250m \u001b[39m\u001b[38;5;28;01mas\u001b[39;00m\u001b[38;5;250m \u001b[39m\u001b[38;5;21;01msns\u001b[39;00m\n\u001b[1;32m      3\u001b[0m \u001b[38;5;28;01mimport\u001b[39;00m\u001b[38;5;250m \u001b[39m\u001b[38;5;21;01mmatplotlib\u001b[39;00m\u001b[38;5;21;01m.\u001b[39;00m\u001b[38;5;21;01mpyplot\u001b[39;00m\u001b[38;5;250m \u001b[39m\u001b[38;5;28;01mas\u001b[39;00m\u001b[38;5;250m \u001b[39m\u001b[38;5;21;01mplt\u001b[39;00m\n\u001b[1;32m      5\u001b[0m num_cols \u001b[38;5;241m=\u001b[39m [\u001b[38;5;124m'\u001b[39m\u001b[38;5;124mAge\u001b[39m\u001b[38;5;124m'\u001b[39m, \u001b[38;5;124m'\u001b[39m\u001b[38;5;124mAnnual Income\u001b[39m\u001b[38;5;124m'\u001b[39m, \u001b[38;5;124m'\u001b[39m\u001b[38;5;124mHealth Score\u001b[39m\u001b[38;5;124m'\u001b[39m, \u001b[38;5;124m'\u001b[39m\u001b[38;5;124mVehicle Age\u001b[39m\u001b[38;5;124m'\u001b[39m, \u001b[38;5;124m'\u001b[39m\u001b[38;5;124mInsurance Duration\u001b[39m\u001b[38;5;124m'\u001b[39m]\n",
      "\u001b[0;31mModuleNotFoundError\u001b[0m: No module named 'seaborn'"
     ]
    }
   ],
   "source": [
    "# 1) 수치형-수치형: 피어슨 상관계수 + 히트맵\n",
    "import seaborn as sns\n",
    "import matplotlib.pyplot as plt\n",
    "\n",
    "num_cols = ['Age', 'Annual Income', 'Health Score', 'Vehicle Age', 'Insurance Duration']\n",
    "corr = train1[num_cols].corr(method='pearson')\n",
    "plt.figure(figsize=(8, 6))\n",
    "sns.heatmap(corr, annot=True, cmap='coolwarm', square=True)\n",
    "plt.title('Pearson Correlation: Numeric Features')\n",
    "plt.show()\n"
   ]
  },
  {
   "cell_type": "markdown",
   "id": "1acc5178",
   "metadata": {},
   "source": []
  },
  {
   "cell_type": "markdown",
   "id": "5b58867d",
   "metadata": {},
   "source": [
    "# 실험1"
   ]
  },
  {
   "cell_type": "markdown",
   "id": "4a45814c",
   "metadata": {},
   "source": [
    "1. Occupation\n",
    "- 1-1. 'unknown'으로 대체\n",
    "- 1-2. 범주별 annual income값 비교해서 대체\n",
    "\n",
    "2. Previous Claims\n",
    "- 2-1. 0값으로 처리\n",
    "- 2-2. 0~9 범주화, null로 대체"
   ]
  },
  {
   "cell_type": "markdown",
   "id": "922bd39c",
   "metadata": {},
   "source": [
    "### 실험1 > 1-1 & 2-1"
   ]
  },
  {
   "cell_type": "code",
   "execution_count": 19,
   "id": "500c122b",
   "metadata": {},
   "outputs": [],
   "source": [
    "train1 = train.copy()\n",
    "train1['Occupation'] = train1['Occupation'].fillna('Unknown')\n",
    "train1['Previous Claims'] = train1['Previous Claims'].fillna(0)"
   ]
  },
  {
   "cell_type": "code",
   "execution_count": null,
   "id": "c6dcf92b",
   "metadata": {},
   "outputs": [],
   "source": []
  }
 ],
 "metadata": {
  "kernelspec": {
   "display_name": "alex",
   "language": "python",
   "name": "python3"
  },
  "language_info": {
   "codemirror_mode": {
    "name": "ipython",
    "version": 3
   },
   "file_extension": ".py",
   "mimetype": "text/x-python",
   "name": "python",
   "nbconvert_exporter": "python",
   "pygments_lexer": "ipython3",
   "version": "3.10.0"
  }
 },
 "nbformat": 4,
 "nbformat_minor": 5
}
