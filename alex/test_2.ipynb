{
 "cells": [
  {
   "cell_type": "code",
   "execution_count": 1,
   "id": "afb97c25",
   "metadata": {},
   "outputs": [],
   "source": [
    "import pandas as pd"
   ]
  },
  {
   "cell_type": "code",
   "execution_count": 2,
   "id": "0892cf68",
   "metadata": {},
   "outputs": [],
   "source": [
    "test = pd.read_csv('test.csv')"
   ]
  },
  {
   "cell_type": "code",
   "execution_count": 3,
   "id": "3991f415",
   "metadata": {},
   "outputs": [],
   "source": [
    "sample = pd.read_csv('sample.csv')"
   ]
  },
  {
   "cell_type": "code",
   "execution_count": 4,
   "id": "0b797a4c",
   "metadata": {},
   "outputs": [],
   "source": [
    "train = pd.read_csv('train.csv')"
   ]
  },
  {
   "cell_type": "code",
   "execution_count": 5,
   "id": "2834c2e7",
   "metadata": {},
   "outputs": [
    {
     "name": "stdout",
     "output_type": "stream",
     "text": [
      "전체 행 개수 : 1200000\n",
      "id                           0\n",
      "Age                      18705\n",
      "Gender                       0\n",
      "Annual Income            44949\n",
      "Marital Status           18529\n",
      "Number of Dependents    109672\n",
      "Education Level              0\n",
      "Occupation              358075\n",
      "Health Score             74076\n",
      "Location                     0\n",
      "Policy Type                  0\n",
      "Previous Claims         364029\n",
      "Vehicle Age                  6\n",
      "Credit Score            137882\n",
      "Insurance Duration           1\n",
      "Policy Start Date            0\n",
      "Customer Feedback        77824\n",
      "Smoking Status               0\n",
      "Exercise Frequency           0\n",
      "Property Type                0\n",
      "Premium Amount               0\n",
      "dtype: int64\n"
     ]
    }
   ],
   "source": [
    "print(\"전체 행 개수 :\", len(train))\n",
    "print(train.isna().sum())     "
   ]
  },
  {
   "cell_type": "markdown",
   "id": "ce64008e",
   "metadata": {},
   "source": [
    "## 데이터 전처리(나머지 변수, 공통)"
   ]
  },
  {
   "cell_type": "code",
   "execution_count": 6,
   "id": "6ed8052d",
   "metadata": {},
   "outputs": [],
   "source": [
    "import numpy as np\n",
    "\n",
    "\n",
    "# Number of Dependents\n",
    "train['Number of Dependents'] = train['Number of Dependents'].astype('Int64')\n",
    "train['Number of Dependents'] = train['Number of Dependents'].astype('category')\n",
    "train['Number of Dependents'] = train['Number of Dependents'].cat.add_categories('Missing')\n",
    "train['Number of Dependents'] = train['Number of Dependents'].fillna('Missing')\n",
    "\n",
    "\n",
    "# Age\n",
    "train['Age'] = train['Age'].fillna(train['Age'].median())\n",
    "\n",
    "\n",
    "# Annual Income\n",
    "train['Annual Income'] = train['Annual Income'].fillna(train['Annual Income'].median())\n",
    "\n",
    "\n",
    "# Health Score\n",
    "train['Health Score'] = train['Health Score'].fillna(train['Health Score'].median())\n",
    "\n",
    "\n",
    "# Credit Score\n",
    "train['Credit Score'] = train['Credit Score'].fillna('Missing')\n",
    "\n",
    "\n",
    "# Customer Feedback\n",
    "train['Customer Feedback'] = train['Customer Feedback'].fillna('No Feedback')\n",
    "\n",
    "\n",
    "# Marital Status\n",
    "train['Marital Status'] = train['Marital Status'].fillna('Unknown')\n",
    "\n",
    "\n",
    "# Vehicle Age 결측 행 삭제\n",
    "train = train[train['Vehicle Age'].notnull()]\n",
    "\n",
    "\n",
    "# Insurance Duration 결측 행 삭제\n",
    "train = train[train['Insurance Duration'].notnull()]"
   ]
  },
  {
   "cell_type": "code",
   "execution_count": 7,
   "id": "645e830e",
   "metadata": {},
   "outputs": [
    {
     "data": {
      "text/plain": [
       "id                           0\n",
       "Age                          0\n",
       "Gender                       0\n",
       "Annual Income                0\n",
       "Marital Status               0\n",
       "Number of Dependents         0\n",
       "Education Level              0\n",
       "Occupation              358074\n",
       "Health Score                 0\n",
       "Location                     0\n",
       "Policy Type                  0\n",
       "Previous Claims         364028\n",
       "Vehicle Age                  0\n",
       "Credit Score                 0\n",
       "Insurance Duration           0\n",
       "Policy Start Date            0\n",
       "Customer Feedback            0\n",
       "Smoking Status               0\n",
       "Exercise Frequency           0\n",
       "Property Type                0\n",
       "Premium Amount               0\n",
       "dtype: int64"
      ]
     },
     "execution_count": 7,
     "metadata": {},
     "output_type": "execute_result"
    }
   ],
   "source": [
    "train.isna().sum()"
   ]
  },
  {
   "cell_type": "markdown",
   "id": "5b58867d",
   "metadata": {},
   "source": [
    "# 실험2"
   ]
  },
  {
   "cell_type": "code",
   "execution_count": 15,
   "id": "b968636f",
   "metadata": {},
   "outputs": [
    {
     "name": "stdout",
     "output_type": "stream",
     "text": [
      "0:\tlearn: 668.1017534\ttest: 668.8478210\tbest: 668.8478210 (0)\ttotal: 726ms\tremaining: 12m 5s\n",
      "100:\tlearn: 653.7201041\ttest: 654.0395569\tbest: 654.0395569 (100)\ttotal: 1m 28s\tremaining: 13m 3s\n",
      "200:\tlearn: 650.9166620\ttest: 651.1224771\tbest: 651.1221724 (199)\ttotal: 3m 37s\tremaining: 14m 22s\n",
      "300:\tlearn: 649.5639330\ttest: 649.7653442\tbest: 649.7653442 (300)\ttotal: 5m 42s\tremaining: 13m 16s\n",
      "400:\tlearn: 647.4697659\ttest: 647.5510786\tbest: 647.5489566 (399)\ttotal: 7m 58s\tremaining: 11m 54s\n",
      "500:\tlearn: 646.4675531\ttest: 646.5588100\tbest: 646.5588100 (500)\ttotal: 10m 10s\tremaining: 10m 7s\n",
      "600:\tlearn: 645.6709926\ttest: 645.7521911\tbest: 645.7520319 (599)\ttotal: 13m 3s\tremaining: 8m 40s\n",
      "700:\tlearn: 645.2857883\ttest: 645.4111485\tbest: 645.4102644 (693)\ttotal: 14m 57s\tremaining: 6m 23s\n",
      "800:\tlearn: 644.9600244\ttest: 645.1541639\tbest: 645.1533538 (785)\ttotal: 17m 38s\tremaining: 4m 22s\n",
      "900:\tlearn: 644.7205264\ttest: 644.9874623\tbest: 644.9849297 (893)\ttotal: 20m 24s\tremaining: 2m 14s\n",
      "999:\tlearn: 644.4008604\ttest: 644.7690218\tbest: 644.7668709 (997)\ttotal: 22m 58s\tremaining: 0us\n",
      "\n",
      "bestTest = 644.7668709\n",
      "bestIteration = 997\n",
      "\n",
      "Shrink model to first 998 iterations.\n",
      "MAE:  644.7669\n",
      "MSE:  717320.2709\n",
      "RMSE: 846.9476\n",
      "R2:   0.0456\n"
     ]
    }
   ],
   "source": [
    "import pandas as pd\n",
    "import numpy as np\n",
    "from sklearn.impute import KNNImputer\n",
    "from sklearn.preprocessing import LabelEncoder\n",
    "from catboost import CatBoostRegressor\n",
    "from sklearn.model_selection import train_test_split\n",
    "from sklearn.metrics import mean_absolute_error, mean_squared_error, r2_score\n",
    "\n",
    "\n",
    "# 1. 데이터 복제\n",
    "train5 = train.copy()\n",
    "train5 = train.drop(columns=['Policy Start Date']).copy()\n",
    "\n",
    "\n",
    "# 2. 범주형 컬럼 선정\n",
    "categorical_cols = ['Occupation', 'Previous Claims', 'Number of Dependents','Policy Type', 'Smoking Status', 'Exercise Frequency', 'Property Type',\n",
    "                   'Credit Score', 'Customer Feedback', 'Marital Status', 'Gender', 'Education Level', 'Location']\n",
    "\n",
    "\n",
    "# 3. Label Encoding (KNN 적용 위해)\n",
    "label_encoders = {}\n",
    "for col in categorical_cols:\n",
    "   le = LabelEncoder()\n",
    "   train5[col] = train5[col].astype(str).replace('nan', '-1')\n",
    "   train5[col] = le.fit_transform(train5[col])\n",
    "   label_encoders[col] = le\n",
    "\n",
    "\n",
    "# 4. KNN Imputer로 결측치 채우기 (K=5)\n",
    "imputer = KNNImputer(n_neighbors=5, weights='uniform')\n",
    "train5_imputed = imputer.fit_transform(train5)\n",
    "train5 = pd.DataFrame(train5_imputed, columns=train5.columns)\n",
    "\n",
    "\n",
    "# 5. Label Decoding (숫자→문자 복원)\n",
    "for col in categorical_cols:\n",
    "   le = label_encoders[col]\n",
    "   train5[col] = train5[col].round(0).astype(int)\n",
    "   train5[col] = le.inverse_transform(train5[col])\n",
    "\n",
    "\n",
    "# 6. CatBoost용 범주형 컬럼 자동 추출\n",
    "target = 'Premium Amount'\n",
    "y = train5[target]\n",
    "X = train5.drop(columns=[target])\n",
    "cat_features = X.select_dtypes(include=['object', 'category']).columns.tolist()\n",
    "\n",
    "\n",
    "# 7. 결측 처리 (적용데이터에만)\n",
    "for col in cat_features:\n",
    "   X[col] = X[col].astype(str).fillna('Missing')\n",
    "for col in X.select_dtypes(include=[np.number]).columns:\n",
    "   if X[col].isnull().sum() > 0:\n",
    "       X[col] = X[col].fillna(X[col].median())\n",
    "\n",
    "\n",
    "# 8. 학습/검증 분할\n",
    "X_train, X_val, y_train, y_val = train_test_split(X, y, test_size=0.2, random_state=42)\n",
    "\n",
    "\n",
    "# 9. CatBoost 회귀모델 정의 및 학습\n",
    "model = CatBoostRegressor(\n",
    "   iterations=1000,\n",
    "   learning_rate=0.05,\n",
    "   depth=6,\n",
    "   eval_metric='MAE',\n",
    "   cat_features=cat_features,\n",
    "   random_seed=42,\n",
    "   verbose=100\n",
    ")\n",
    "model.fit(X_train, y_train, eval_set=(X_val, y_val), use_best_model=True)\n",
    "\n",
    "\n",
    "# 10. 예측 및 평가\n",
    "y_pred = model.predict(X_val)\n",
    "mae = mean_absolute_error(y_val, y_pred)\n",
    "mse = mean_squared_error(y_val, y_pred)\n",
    "rmse = np.sqrt(mse)\n",
    "r2 = r2_score(y_val, y_pred)\n",
    "\n",
    "\n",
    "print(f\"MAE:  {mae:.4f}\")\n",
    "print(f\"MSE:  {mse:.4f}\")\n",
    "print(f\"RMSE: {rmse:.4f}\")\n",
    "print(f\"R2:   {r2:.4f}\")\n",
    "\n",
    "\n"
   ]
  },
  {
   "cell_type": "code",
   "execution_count": null,
   "id": "1512ed3f",
   "metadata": {},
   "outputs": [],
   "source": []
  }
 ],
 "metadata": {
  "kernelspec": {
   "display_name": "alex",
   "language": "python",
   "name": "python3"
  },
  "language_info": {
   "codemirror_mode": {
    "name": "ipython",
    "version": 3
   },
   "file_extension": ".py",
   "mimetype": "text/x-python",
   "name": "python",
   "nbconvert_exporter": "python",
   "pygments_lexer": "ipython3",
   "version": "3.10.0"
  }
 },
 "nbformat": 4,
 "nbformat_minor": 5
}
