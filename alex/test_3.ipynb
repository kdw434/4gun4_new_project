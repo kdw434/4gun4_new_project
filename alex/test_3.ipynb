{
 "cells": [
  {
   "cell_type": "code",
   "execution_count": 1,
   "id": "afb97c25",
   "metadata": {},
   "outputs": [],
   "source": [
    "import pandas as pd"
   ]
  },
  {
   "cell_type": "code",
   "execution_count": null,
   "id": "0892cf68",
   "metadata": {},
   "outputs": [],
   "source": [
    "test = pd.read_csv('/Users/t2023-m0149/Documents/spartacodingclub/Projects/4. insurance/test.csv')"
   ]
  },
  {
   "cell_type": "code",
   "execution_count": null,
   "id": "3991f415",
   "metadata": {},
   "outputs": [],
   "source": [
    "sample = pd.read_csv('/Users/t2023-m0149/Documents/spartacodingclub/Projects/4. insurance/sample.csv')"
   ]
  },
  {
   "cell_type": "code",
   "execution_count": null,
   "id": "0b797a4c",
   "metadata": {},
   "outputs": [],
   "source": [
    "train = pd.read_csv('/Users/t2023-m0149/Documents/spartacodingclub/Projects/4. insurance/train.csv')"
   ]
  },
  {
   "cell_type": "code",
   "execution_count": 15,
   "id": "2834c2e7",
   "metadata": {},
   "outputs": [
    {
     "name": "stdout",
     "output_type": "stream",
     "text": [
      "전체 행 개수 : 1200000\n",
      "id                           0\n",
      "Age                      18705\n",
      "Gender                       0\n",
      "Annual Income            44949\n",
      "Marital Status           18529\n",
      "Number of Dependents    109672\n",
      "Education Level              0\n",
      "Occupation              358075\n",
      "Health Score             74076\n",
      "Location                     0\n",
      "Policy Type                  0\n",
      "Previous Claims         364029\n",
      "Vehicle Age                  6\n",
      "Credit Score            137882\n",
      "Insurance Duration           1\n",
      "Policy Start Date            0\n",
      "Customer Feedback        77824\n",
      "Smoking Status               0\n",
      "Exercise Frequency           0\n",
      "Property Type                0\n",
      "Premium Amount               0\n",
      "dtype: int64\n"
     ]
    }
   ],
   "source": [
    "print(\"전체 행 개수 :\", len(train))\n",
    "print(train.isna().sum())     "
   ]
  },
  {
   "cell_type": "markdown",
   "id": "ce64008e",
   "metadata": {},
   "source": [
    "## 데이터 전처리_재시도"
   ]
  },
  {
   "cell_type": "code",
   "execution_count": 16,
   "id": "365bf6f7",
   "metadata": {},
   "outputs": [
    {
     "name": "stdout",
     "output_type": "stream",
     "text": [
      "<class 'pandas.core.frame.DataFrame'>\n",
      "RangeIndex: 1200000 entries, 0 to 1199999\n",
      "Data columns (total 21 columns):\n",
      " #   Column                Non-Null Count    Dtype  \n",
      "---  ------                --------------    -----  \n",
      " 0   Age                   1200000 non-null  float64\n",
      " 1   Gender                1200000 non-null  int64  \n",
      " 2   Annual Income         1155051 non-null  float64\n",
      " 3   Marital Status        1200000 non-null  int64  \n",
      " 4   Number of Dependents  1200000 non-null  int64  \n",
      " 5   Education Level       1200000 non-null  int64  \n",
      " 6   Occupation            841925 non-null   float64\n",
      " 7   Health Score          1200000 non-null  float64\n",
      " 8   Location              1200000 non-null  int64  \n",
      " 9   Policy Type           1200000 non-null  int64  \n",
      " 10  Previous Claims       1200000 non-null  float64\n",
      " 11  Vehicle Age           1200000 non-null  float64\n",
      " 12  Credit Score          1200000 non-null  float64\n",
      " 13  Insurance Duration    1199999 non-null  float64\n",
      " 14  Customer Feedback     1122176 non-null  float64\n",
      " 15  Smoking Status        1200000 non-null  int64  \n",
      " 16  Exercise Frequency    1200000 non-null  int64  \n",
      " 17  Property Type         1200000 non-null  int64  \n",
      " 18  Premium Amount        1200000 non-null  float64\n",
      " 19  Policy_Year           1200000 non-null  int32  \n",
      " 20  Policy_Month          1200000 non-null  int32  \n",
      "dtypes: float64(10), int32(2), int64(9)\n",
      "memory usage: 183.1 MB\n",
      "None\n"
     ]
    }
   ],
   "source": [
    "import pandas as pd\n",
    "import numpy as np\n",
    "from sklearn.preprocessing import LabelEncoder\n",
    "\n",
    "# 데이터 불러오기\n",
    "df = pd.read_csv(\"train.csv\")  # 파일 경로에 맞게 수정\n",
    "\n",
    "# 1. 로그 변환\n",
    "df['Annual Income'] = np.log1p(df['Annual Income'])\n",
    "\n",
    "# 2. 결측치 처리\n",
    "mean_fill = ['Health Score', 'Credit Score', 'Age', 'Vehicle Age']\n",
    "median_fill = ['Previous Claims']\n",
    "\n",
    "for col in mean_fill:\n",
    "    df[col] = df[col].fillna(df[col].mean())\n",
    "\n",
    "for col in median_fill:\n",
    "    df[col] = df[col].fillna(df[col].median())\n",
    "\n",
    "# 3. Label Encoding (범주형)\n",
    "label_cols = [\n",
    "    'Marital Status', 'Education Level', 'Policy Type', 'Gender',\n",
    "    'Smoking Status', 'Number of Dependents', 'Property Type',\n",
    "    'Exercise Frequency', 'Location'\n",
    "]\n",
    "\n",
    "for col in label_cols:\n",
    "    df[col] = df[col].astype(str)\n",
    "    df[col] = LabelEncoder().fit_transform(df[col])\n",
    "\n",
    "# 4. 고유값 제거\n",
    "df.drop(columns=['id'], inplace=True)\n",
    "\n",
    "# 5. 날짜형 처리\n",
    "df['Policy Start Date'] = pd.to_datetime(df['Policy Start Date'], errors='coerce')\n",
    "df['Policy_Year'] = df['Policy Start Date'].dt.year\n",
    "df['Policy_Month'] = df['Policy Start Date'].dt.month\n",
    "df.drop(columns=['Policy Start Date'], inplace=True)\n",
    "\n",
    "# 6. 다중 클래스 범주형 -> 빈도 인코딩\n",
    "for col in ['Occupation', 'Customer Feedback']:\n",
    "    freq_map = df[col].value_counts().to_dict()\n",
    "    df[col] = df[col].map(freq_map)\n",
    "\n",
    "# 전처리 완료\n",
    "print(df.info())\n",
    "\n"
   ]
  },
  {
   "cell_type": "code",
   "execution_count": 17,
   "id": "36b54b55",
   "metadata": {},
   "outputs": [
    {
     "name": "stdout",
     "output_type": "stream",
     "text": [
      "Age                     0\n",
      "Gender                  0\n",
      "Annual Income           0\n",
      "Marital Status          0\n",
      "Number of Dependents    0\n",
      "Education Level         0\n",
      "Occupation              0\n",
      "Health Score            0\n",
      "Location                0\n",
      "Policy Type             0\n",
      "Previous Claims         0\n",
      "Vehicle Age             0\n",
      "Credit Score            0\n",
      "Customer Feedback       0\n",
      "Smoking Status          0\n",
      "Exercise Frequency      0\n",
      "Property Type           0\n",
      "Premium Amount          0\n",
      "Policy_Year             0\n",
      "Policy_Month            0\n",
      "dtype: int64\n"
     ]
    }
   ],
   "source": [
    "import pandas as pd\n",
    "\n",
    "\n",
    "# 1. Annual Income 결측치 제거\n",
    "df = df.dropna(subset=['Annual Income'])\n",
    "\n",
    "\n",
    "# 2. Occupation 결측치를 'Unknown'으로 대체\n",
    "df['Occupation'] = df['Occupation'].fillna('Unknown')\n",
    "\n",
    "\n",
    "# 3. Customer Feedback 결측치를 'Unknown'으로 대체\n",
    "df['Customer Feedback'] = df['Customer Feedback'].fillna('Unknown')\n",
    "\n",
    "\n",
    "#4.\n",
    "df.drop('Insurance Duration', axis=1, inplace=True)  # 보험 청구 여부 제거\n",
    "# 결과 확인\n",
    "print(df.isnull().sum())\n",
    "\n",
    "\n",
    "# 저장\n",
    "df.to_csv(\"cleaned_train.csv\", index=False)\n",
    "\n",
    "\n"
   ]
  },
  {
   "cell_type": "code",
   "execution_count": 18,
   "id": "4f435dd8",
   "metadata": {},
   "outputs": [
    {
     "name": "stdout",
     "output_type": "stream",
     "text": [
      "Validation RMSE: 838.9844690163854\n"
     ]
    }
   ],
   "source": [
    "import pandas as pd\n",
    "import numpy as np\n",
    "from sklearn.preprocessing import LabelEncoder\n",
    "from sklearn.model_selection import train_test_split\n",
    "from sklearn.ensemble import RandomForestRegressor\n",
    "from sklearn.metrics import mean_squared_error\n",
    "\n",
    "# 데이터 불러오기\n",
    "df = pd.read_csv(\"train.csv\")\n",
    "\n",
    "# 1. Annual Income 로그 변환\n",
    "df['Annual Income'] = np.log1p(df['Annual Income'])\n",
    "\n",
    "# 2. 결측치 처리: 평균, 중앙값 대체\n",
    "mean_fill = ['Health Score', 'Credit Score', 'Age', 'Vehicle Age']\n",
    "median_fill = ['Previous Claims']\n",
    "\n",
    "for col in mean_fill:\n",
    "    df[col] = df[col].fillna(df[col].mean())\n",
    "for col in median_fill:\n",
    "    df[col] = df[col].fillna(df[col].median())\n",
    "\n",
    "# 3. 결측치 행 제거 (Annual Income)\n",
    "df = df.dropna(subset=['Annual Income'])\n",
    "\n",
    "# 4. 범주형 변수 라벨인코딩\n",
    "label_cols = [\n",
    "    'Marital Status', 'Education Level', 'Policy Type', 'Gender',\n",
    "    'Smoking Status', 'Number of Dependents', 'Property Type',\n",
    "    'Exercise Frequency', 'Location'\n",
    "]\n",
    "for col in label_cols:\n",
    "    df[col] = df[col].astype(str)\n",
    "    df[col] = LabelEncoder().fit_transform(df[col])\n",
    "\n",
    "# 5. 다중 클래스 빈도 인코딩\n",
    "for col in ['Occupation', 'Customer Feedback']:\n",
    "    freq_map = df[col].value_counts().to_dict()\n",
    "    df[col] = df[col].map(freq_map)\n",
    "\n",
    "# 6. 불필요한 열 제거\n",
    "df.drop(columns=['id', 'Insurance Duration', 'Policy Start Date'], inplace=True)\n",
    "\n",
    "# 7. 특성과 타겟 분리\n",
    "X = df.drop('Premium Amount', axis=1)\n",
    "y = df['Premium Amount']\n",
    "\n",
    "# 8. 데이터 분할\n",
    "X_train, X_val, y_train, y_val = train_test_split(\n",
    "    X, y, test_size=0.2, random_state=42\n",
    ")\n",
    "\n",
    "# 9. 랜덤 포레스트 회귀 모델 학습\n",
    "model = RandomForestRegressor(\n",
    "    n_estimators=200,\n",
    "    max_depth=15,\n",
    "    random_state=42,\n",
    "    n_jobs=-1\n",
    ")\n",
    "model.fit(X_train, y_train)\n",
    "\n",
    "# 10. 검증 및 평가\n",
    "y_pred = model.predict(X_val)\n",
    "rmse = np.sqrt(mean_squared_error(y_val, y_pred))\n",
    "print(f\"Validation RMSE: {rmse}\")\n"
   ]
  },
  {
   "cell_type": "code",
   "execution_count": null,
   "id": "c8a3a019",
   "metadata": {},
   "outputs": [],
   "source": [
    "      "
   ]
  }
 ],
 "metadata": {
  "kernelspec": {
   "display_name": "alex",
   "language": "python",
   "name": "python3"
  },
  "language_info": {
   "codemirror_mode": {
    "name": "ipython",
    "version": 3
   },
   "file_extension": ".py",
   "mimetype": "text/x-python",
   "name": "python",
   "nbconvert_exporter": "python",
   "pygments_lexer": "ipython3",
   "version": "3.10.0"
  }
 },
 "nbformat": 4,
 "nbformat_minor": 5
}
