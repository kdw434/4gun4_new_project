{
 "cells": [
  {
   "cell_type": "code",
   "execution_count": 1,
   "id": "afb97c25",
   "metadata": {},
   "outputs": [],
   "source": [
    "import pandas as pd"
   ]
  },
  {
   "cell_type": "code",
   "execution_count": null,
   "id": "0892cf68",
   "metadata": {},
   "outputs": [],
   "source": [
    "test = pd.read_csv('/Users/t2023-m0149/Documents/spartacodingclub/Projects/4. insurance/test.csv')"
   ]
  },
  {
   "cell_type": "code",
   "execution_count": null,
   "id": "3991f415",
   "metadata": {},
   "outputs": [],
   "source": [
    "sample = pd.read_csv('/Users/t2023-m0149/Documents/spartacodingclub/Projects/4. insurance/sample.csv')"
   ]
  },
  {
   "cell_type": "code",
   "execution_count": null,
   "id": "0b797a4c",
   "metadata": {},
   "outputs": [],
   "source": [
    "train = pd.read_csv('/Users/t2023-m0149/Documents/spartacodingclub/Projects/4. insurance/train.csv')"
   ]
  },
  {
   "cell_type": "code",
   "execution_count": 5,
   "id": "2834c2e7",
   "metadata": {},
   "outputs": [
    {
     "name": "stdout",
     "output_type": "stream",
     "text": [
      "전체 행 개수 : 1200000\n",
      "id                           0\n",
      "Age                      18705\n",
      "Gender                       0\n",
      "Annual Income            44949\n",
      "Marital Status           18529\n",
      "Number of Dependents    109672\n",
      "Education Level              0\n",
      "Occupation              358075\n",
      "Health Score             74076\n",
      "Location                     0\n",
      "Policy Type                  0\n",
      "Previous Claims         364029\n",
      "Vehicle Age                  6\n",
      "Credit Score            137882\n",
      "Insurance Duration           1\n",
      "Policy Start Date            0\n",
      "Customer Feedback        77824\n",
      "Smoking Status               0\n",
      "Exercise Frequency           0\n",
      "Property Type                0\n",
      "Premium Amount               0\n",
      "dtype: int64\n"
     ]
    }
   ],
   "source": [
    "print(\"전체 행 개수 :\", len(train))\n",
    "print(train.isna().sum())     "
   ]
  },
  {
   "cell_type": "markdown",
   "id": "ce64008e",
   "metadata": {},
   "source": [
    "## 데이터 전처리_재시도"
   ]
  },
  {
   "cell_type": "code",
   "execution_count": 6,
   "id": "365bf6f7",
   "metadata": {},
   "outputs": [
    {
     "name": "stdout",
     "output_type": "stream",
     "text": [
      "<class 'pandas.core.frame.DataFrame'>\n",
      "RangeIndex: 1200000 entries, 0 to 1199999\n",
      "Data columns (total 21 columns):\n",
      " #   Column                Non-Null Count    Dtype  \n",
      "---  ------                --------------    -----  \n",
      " 0   Age                   1200000 non-null  float64\n",
      " 1   Gender                1200000 non-null  int64  \n",
      " 2   Annual Income         1155051 non-null  float64\n",
      " 3   Marital Status        1200000 non-null  int64  \n",
      " 4   Number of Dependents  1200000 non-null  int64  \n",
      " 5   Education Level       1200000 non-null  int64  \n",
      " 6   Occupation            841925 non-null   float64\n",
      " 7   Health Score          1200000 non-null  float64\n",
      " 8   Location              1200000 non-null  int64  \n",
      " 9   Policy Type           1200000 non-null  int64  \n",
      " 10  Previous Claims       1200000 non-null  float64\n",
      " 11  Vehicle Age           1200000 non-null  float64\n",
      " 12  Credit Score          1200000 non-null  float64\n",
      " 13  Insurance Duration    1199999 non-null  float64\n",
      " 14  Customer Feedback     1122176 non-null  float64\n",
      " 15  Smoking Status        1200000 non-null  int64  \n",
      " 16  Exercise Frequency    1200000 non-null  int64  \n",
      " 17  Property Type         1200000 non-null  int64  \n",
      " 18  Premium Amount        1200000 non-null  float64\n",
      " 19  Policy_Year           1200000 non-null  int32  \n",
      " 20  Policy_Month          1200000 non-null  int32  \n",
      "dtypes: float64(10), int32(2), int64(9)\n",
      "memory usage: 183.1 MB\n",
      "None\n"
     ]
    }
   ],
   "source": [
    "import pandas as pd\n",
    "import numpy as np\n",
    "from sklearn.preprocessing import LabelEncoder\n",
    "\n",
    "# 데이터 불러오기\n",
    "df = pd.read_csv(\"train.csv\")  # 파일 경로에 맞게 수정\n",
    "\n",
    "# 1. 로그 변환\n",
    "df['Annual Income'] = np.log1p(df['Annual Income'])\n",
    "\n",
    "# 2. 결측치 처리\n",
    "mean_fill = ['Health Score', 'Credit Score', 'Age', 'Vehicle Age']\n",
    "median_fill = ['Previous Claims']\n",
    "\n",
    "for col in mean_fill:\n",
    "    df[col] = df[col].fillna(df[col].mean())\n",
    "\n",
    "for col in median_fill:\n",
    "    df[col] = df[col].fillna(df[col].median())\n",
    "\n",
    "# 3. Label Encoding (범주형)\n",
    "label_cols = [\n",
    "    'Marital Status', 'Education Level', 'Policy Type', 'Gender',\n",
    "    'Smoking Status', 'Number of Dependents', 'Property Type',\n",
    "    'Exercise Frequency', 'Location'\n",
    "]\n",
    "\n",
    "for col in label_cols:\n",
    "    df[col] = df[col].astype(str)\n",
    "    df[col] = LabelEncoder().fit_transform(df[col])\n",
    "\n",
    "# 4. 고유값 제거\n",
    "df.drop(columns=['id'], inplace=True)\n",
    "\n",
    "# 5. 날짜형 처리\n",
    "df['Policy Start Date'] = pd.to_datetime(df['Policy Start Date'], errors='coerce')\n",
    "df['Policy_Year'] = df['Policy Start Date'].dt.year\n",
    "df['Policy_Month'] = df['Policy Start Date'].dt.month\n",
    "df.drop(columns=['Policy Start Date'], inplace=True)\n",
    "\n",
    "# 6. 다중 클래스 범주형 -> 빈도 인코딩\n",
    "for col in ['Occupation', 'Customer Feedback']:\n",
    "    freq_map = df[col].value_counts().to_dict()\n",
    "    df[col] = df[col].map(freq_map)\n",
    "\n",
    "# 전처리 완료\n",
    "print(df.info())\n",
    "\n"
   ]
  },
  {
   "cell_type": "code",
   "execution_count": 7,
   "id": "36b54b55",
   "metadata": {},
   "outputs": [
    {
     "name": "stdout",
     "output_type": "stream",
     "text": [
      "Age                     0\n",
      "Gender                  0\n",
      "Annual Income           0\n",
      "Marital Status          0\n",
      "Number of Dependents    0\n",
      "Education Level         0\n",
      "Occupation              0\n",
      "Health Score            0\n",
      "Location                0\n",
      "Policy Type             0\n",
      "Previous Claims         0\n",
      "Vehicle Age             0\n",
      "Credit Score            0\n",
      "Customer Feedback       0\n",
      "Smoking Status          0\n",
      "Exercise Frequency      0\n",
      "Property Type           0\n",
      "Premium Amount          0\n",
      "Policy_Year             0\n",
      "Policy_Month            0\n",
      "dtype: int64\n"
     ]
    }
   ],
   "source": [
    "import pandas as pd\n",
    "\n",
    "\n",
    "# 1. Annual Income 결측치 제거\n",
    "df = df.dropna(subset=['Annual Income'])\n",
    "\n",
    "\n",
    "# 2. Occupation 결측치를 'Unknown'으로 대체\n",
    "df['Occupation'] = df['Occupation'].fillna('Unknown')\n",
    "\n",
    "\n",
    "# 3. Customer Feedback 결측치를 'Unknown'으로 대체\n",
    "df['Customer Feedback'] = df['Customer Feedback'].fillna('Unknown')\n",
    "\n",
    "\n",
    "#4.\n",
    "df.drop('Insurance Duration', axis=1, inplace=True)  # 보험 청구 여부 제거\n",
    "# 결과 확인\n",
    "print(df.isnull().sum())\n",
    "\n",
    "\n",
    "# 저장\n",
    "df.to_csv(\"cleaned_train.csv\", index=False)\n",
    "\n",
    "\n"
   ]
  },
  {
   "cell_type": "code",
   "execution_count": 9,
   "id": "7f5b4119",
   "metadata": {},
   "outputs": [
    {
     "name": "stdout",
     "output_type": "stream",
     "text": [
      "Collecting lightgbm\n",
      "  Downloading lightgbm-4.6.0-py3-none-macosx_12_0_arm64.whl (1.6 MB)\n",
      "\u001b[K     |████████████████████████████████| 1.6 MB 3.1 MB/s eta 0:00:01\n",
      "\u001b[?25hRequirement already satisfied: numpy>=1.17.0 in ./lib/python3.10/site-packages (from lightgbm) (2.2.6)\n",
      "Requirement already satisfied: scipy in ./lib/python3.10/site-packages (from lightgbm) (1.15.3)\n",
      "Installing collected packages: lightgbm\n",
      "Successfully installed lightgbm-4.6.0\n",
      "\u001b[33mWARNING: You are using pip version 21.2.3; however, version 25.2 is available.\n",
      "You should consider upgrading via the '/Users/t2023-m0149/Documents/GitHub/4gun4_new_project/alex/bin/python -m pip install --upgrade pip' command.\u001b[0m\n",
      "Note: you may need to restart the kernel to use updated packages.\n"
     ]
    }
   ],
   "source": [
    "pip install lightgbm"
   ]
  },
  {
   "cell_type": "code",
   "execution_count": 8,
   "id": "15a27fdf",
   "metadata": {},
   "outputs": [
    {
     "ename": "ModuleNotFoundError",
     "evalue": "No module named 'lightgbm'",
     "output_type": "error",
     "traceback": [
      "\u001b[0;31m---------------------------------------------------------------------------\u001b[0m",
      "\u001b[0;31mModuleNotFoundError\u001b[0m                       Traceback (most recent call last)",
      "Cell \u001b[0;32mIn[8], line 6\u001b[0m\n\u001b[1;32m      4\u001b[0m \u001b[38;5;28;01mfrom\u001b[39;00m\u001b[38;5;250m \u001b[39m\u001b[38;5;21;01msklearn\u001b[39;00m\u001b[38;5;21;01m.\u001b[39;00m\u001b[38;5;21;01mpreprocessing\u001b[39;00m\u001b[38;5;250m \u001b[39m\u001b[38;5;28;01mimport\u001b[39;00m LabelEncoder\n\u001b[1;32m      5\u001b[0m \u001b[38;5;28;01mfrom\u001b[39;00m\u001b[38;5;250m \u001b[39m\u001b[38;5;21;01msklearn\u001b[39;00m\u001b[38;5;21;01m.\u001b[39;00m\u001b[38;5;21;01mmetrics\u001b[39;00m\u001b[38;5;250m \u001b[39m\u001b[38;5;28;01mimport\u001b[39;00m mean_absolute_error, mean_squared_error, r2_score\n\u001b[0;32m----> 6\u001b[0m \u001b[38;5;28;01mimport\u001b[39;00m\u001b[38;5;250m \u001b[39m\u001b[38;5;21;01mlightgbm\u001b[39;00m\u001b[38;5;250m \u001b[39m\u001b[38;5;28;01mas\u001b[39;00m\u001b[38;5;250m \u001b[39m\u001b[38;5;21;01mlgb\u001b[39;00m\n\u001b[1;32m      7\u001b[0m \u001b[38;5;66;03m# 데이터 불러오기\u001b[39;00m\n\u001b[1;32m      8\u001b[0m df \u001b[38;5;241m=\u001b[39m pd\u001b[38;5;241m.\u001b[39mread_csv(\u001b[38;5;124m\"\u001b[39m\u001b[38;5;124mtrain.csv\u001b[39m\u001b[38;5;124m\"\u001b[39m)\n",
      "\u001b[0;31mModuleNotFoundError\u001b[0m: No module named 'lightgbm'"
     ]
    }
   ],
   "source": [
    "import pandas as pd\n",
    "import numpy as np\n",
    "from sklearn.model_selection import train_test_split\n",
    "from sklearn.preprocessing import LabelEncoder\n",
    "from sklearn.metrics import mean_absolute_error, mean_squared_error, r2_score\n",
    "import lightgbm as lgb\n",
    "# 데이터 불러오기\n",
    "df = pd.read_csv(\"train.csv\")\n",
    "# 로그 변환\n",
    "df['Annual Income'] = np.log1p(df['Annual Income'])\n",
    "# 결측치 처리\n",
    "mean_fill = ['Health Score', 'Credit Score', 'Age', 'Vehicle Age']\n",
    "median_fill = ['Previous Claims']\n",
    "for col in mean_fill:\n",
    "    df[col] = df[col].fillna(df[col].mean())\n",
    "for col in median_fill:\n",
    "    df[col] = df[col].fillna(df[col].median())\n",
    "# Label Encoding\n",
    "label_cols = [\n",
    "    'Marital Status', 'Education Level', 'Policy Type', 'Gender',\n",
    "    'Smoking Status', 'Number of Dependents', 'Property Type',\n",
    "    'Exercise Frequency', 'Location'\n",
    "]\n",
    "for col in label_cols:\n",
    "    df[col] = df[col].astype(str)\n",
    "    df[col] = LabelEncoder().fit_transform(df[col])\n",
    "# ID 제거\n",
    "df.drop(columns=['id'], inplace=True)\n",
    "# 날짜 처리\n",
    "df['Policy Start Date'] = pd.to_datetime(df['Policy Start Date'], errors='coerce')\n",
    "df['Policy_Year'] = df['Policy Start Date'].dt.year\n",
    "df['Policy_Month'] = df['Policy Start Date'].dt.month\n",
    "df.drop(columns=['Policy Start Date'], inplace=True)\n",
    "# Occupation, Customer Feedback → 결측치 처리\n",
    "df['Occupation'] = df['Occupation'].fillna('Unknown')\n",
    "df['Customer Feedback'] = df['Customer Feedback'].fillna('Unknown')\n",
    "# frequency encoding\n",
    "for col in ['Occupation', 'Customer Feedback']:\n",
    "    freq_map = df[col].value_counts().to_dict()\n",
    "    df[col] = df[col].map(freq_map)\n",
    "# Insurance Duration 결측치 제거\n",
    "df = df.dropna(subset=['Insurance Duration'])\n",
    "# 범주형 컬럼 frequency encoding\n",
    "categorical_cols = [\n",
    "    'Gender', 'Marital Status', 'Education Level', 'Location',\n",
    "    'Policy Type', 'Smoking Status', 'Exercise Frequency', 'Property Type'\n",
    "]\n",
    "for col in categorical_cols:\n",
    "    freq_map = df[col].value_counts().to_dict()\n",
    "    df[col] = df[col].map(freq_map)\n",
    "# 상관관계 높은 피처 제거\n",
    "corr_matrix = df.corr(numeric_only=True)\n",
    "high_corr_features = corr_matrix[\"Premium Amount\"][corr_matrix[\"Premium Amount\"].abs() > 0.6].index.tolist()\n",
    "high_corr_features = [f for f in high_corr_features if f != \"Premium Amount\"]\n",
    "# 로그 타겟 생성\n",
    "df[\"Premium Amount\"]\n",
    "# X, y 분리\n",
    "X = df.drop(columns=high_corr_features + [\"Premium Amount\"])\n",
    "y = df[\"Premium Amount\"]\n",
    "# 데이터 분리\n",
    "X_train, X_valid, y_train, y_valid = train_test_split(X, y, test_size=0.2, random_state=42)\n",
    "# LightGBM Dataset 생성\n",
    "train_data = lgb.Dataset(X_train, label=y_train)\n",
    "valid_data = lgb.Dataset(X_valid, label=y_valid)\n",
    "# LightGBM 파라미터\n",
    "params = {\n",
    "    'objective': 'regression',\n",
    "    'metric': 'rmse',\n",
    "    'verbosity': -1,\n",
    "    'boosting_type': 'gbdt',\n",
    "    'max_depth': 2,\n",
    "    'num_leaves': 5,\n",
    "    'min_data_in_leaf': 100,\n",
    "    'learning_rate': 0.01,\n",
    "    'feature_fraction': 0.5,\n",
    "    'bagging_fraction': 0.5,\n",
    "    'bagging_freq': 5,\n",
    "    'seed': 42\n",
    "}\n",
    "# 학습\n",
    "model = lgb.train(\n",
    "    params,\n",
    "    train_data,\n",
    "    valid_sets=[train_data, valid_data],\n",
    "    num_boost_round=3000,\n",
    "    callbacks=[lgb.early_stopping(stopping_rounds=100), lgb.log_evaluation(100)]\n",
    ")\n",
    "# 1. 예측\n",
    "y_pred_log = model.predict(X_valid)\n",
    "# 2. clip으로 값 폭주 방지\n",
    "y_pred_log = np.clip(y_pred_log, a_min=None, a_max=20)\n",
    "y_valid_log = np.clip(y_valid, a_min=None, a_max=20)\n",
    "# 3. expm1으로 원상복구\n",
    "y_pred = np.expm1(y_pred_log)\n",
    "y_valid_orig = np.expm1(y_valid_log)\n",
    "# 4. 평가\n",
    "print(\":흰색_확인_표시: 최종 성능:\")\n",
    "print(\":압정: MAE:\", mean_absolute_error(y_valid_orig, y_pred))\n",
    "print(\":압정: MSE:\", mean_squared_error(y_valid_orig, y_pred))\n",
    "print(\":압정: RMSE:\", np.sqrt(mean_squared_error(y_valid_orig, y_pred)))\n",
    "print(\":압정: R2:\", r2_score(y_valid_orig, y_pred))\n",
    "\n",
    "\n",
    "\n",
    "\n",
    "\n"
   ]
  },
  {
   "cell_type": "code",
   "execution_count": null,
   "id": "d081501f",
   "metadata": {},
   "outputs": [],
   "source": []
  },
  {
   "cell_type": "code",
   "execution_count": null,
   "id": "8995f8e4",
   "metadata": {},
   "outputs": [],
   "source": [
    "\n"
   ]
  }
 ],
 "metadata": {
  "kernelspec": {
   "display_name": "alex",
   "language": "python",
   "name": "python3"
  },
  "language_info": {
   "codemirror_mode": {
    "name": "ipython",
    "version": 3
   },
   "file_extension": ".py",
   "mimetype": "text/x-python",
   "name": "python",
   "nbconvert_exporter": "python",
   "pygments_lexer": "ipython3",
   "version": "3.10.0"
  }
 },
 "nbformat": 4,
 "nbformat_minor": 5
}
