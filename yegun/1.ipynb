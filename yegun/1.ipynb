{
 "cells": [
  {
   "cell_type": "code",
   "execution_count": 2,
   "id": "24a22a17",
   "metadata": {},
   "outputs": [],
   "source": [
    "import pandas as pd\n",
    "test = pd.read_csv('test.csv')\n",
    "train = pd.read_csv('train.csv')"
   ]
  },
  {
   "cell_type": "code",
   "execution_count": null,
   "id": "807ee9d5",
   "metadata": {},
   "outputs": [
    {
     "data": {
      "text/plain": [
       "1200000"
      ]
     },
     "execution_count": 3,
     "metadata": {},
     "output_type": "execute_result"
    }
   ],
   "source": [
    "#len(train)"
   ]
  },
  {
   "cell_type": "code",
   "execution_count": null,
   "id": "35f620f6",
   "metadata": {},
   "outputs": [
    {
     "data": {
      "text/plain": [
       "id                           0\n",
       "Age                      18705\n",
       "Gender                       0\n",
       "Annual Income            44949\n",
       "Marital Status           18529\n",
       "Number of Dependents    109672\n",
       "Education Level              0\n",
       "Occupation              358075\n",
       "Health Score             74076\n",
       "Location                     0\n",
       "Policy Type                  0\n",
       "Previous Claims         364029\n",
       "Vehicle Age                  6\n",
       "Credit Score            137882\n",
       "Insurance Duration           1\n",
       "Policy Start Date            0\n",
       "Customer Feedback        77824\n",
       "Smoking Status               0\n",
       "Exercise Frequency           0\n",
       "Property Type                0\n",
       "Premium Amount               0\n",
       "dtype: int64"
      ]
     },
     "execution_count": 4,
     "metadata": {},
     "output_type": "execute_result"
    }
   ],
   "source": [
    "#train.isnull().sum()"
   ]
  },
  {
   "cell_type": "code",
   "execution_count": 5,
   "id": "182732c2",
   "metadata": {},
   "outputs": [],
   "source": [
    "import numpy as np\n",
    "\n",
    "# Number of Dependents\n",
    "train['Number of Dependents'] = train['Number of Dependents'].astype('Int64')\n",
    "train['Number of Dependents'] = train['Number of Dependents'].astype('category')\n",
    "train['Number of Dependents'] = train['Number of Dependents'].cat.add_categories('Missing')\n",
    "train['Number of Dependents'] = train['Number of Dependents'].fillna('Missing')\n",
    "\n",
    "# Age\n",
    "train['Age'] = train['Age'].fillna(train['Age'].median())\n",
    "\n",
    "# Annual Income\n",
    "train['Annual Income'] = train['Annual Income'].fillna(train['Annual Income'].median())\n",
    "\n",
    "# Health Score\n",
    "train['Health Score'] = train['Health Score'].fillna(train['Health Score'].median())\n",
    "\n",
    "# Credit Score\n",
    "train['Credit Score'] = train['Credit Score'].fillna('Missing')\n",
    "\n",
    "# Customer Feedback\n",
    "train['Customer Feedback'] = train['Customer Feedback'].fillna('No Feedback')\n",
    "\n",
    "# Marital Status\n",
    "train['Marital Status'] = train['Marital Status'].fillna('Unknown')\n",
    "\n",
    "# Vehicle Age 결측 행 삭제\n",
    "train = train[train['Vehicle Age'].notnull()]\n",
    "\n",
    "# Insurance Duration 결측 행 삭제\n",
    "train = train[train['Insurance Duration'].notnull()]"
   ]
  },
  {
   "cell_type": "code",
   "execution_count": null,
   "id": "f89837e1",
   "metadata": {},
   "outputs": [
    {
     "data": {
      "text/plain": [
       "id                           0\n",
       "Age                          0\n",
       "Gender                       0\n",
       "Annual Income                0\n",
       "Marital Status               0\n",
       "Number of Dependents         0\n",
       "Education Level              0\n",
       "Occupation              358074\n",
       "Health Score                 0\n",
       "Location                     0\n",
       "Policy Type                  0\n",
       "Previous Claims         364028\n",
       "Vehicle Age                  0\n",
       "Credit Score                 0\n",
       "Insurance Duration           0\n",
       "Policy Start Date            0\n",
       "Customer Feedback            0\n",
       "Smoking Status               0\n",
       "Exercise Frequency           0\n",
       "Property Type                0\n",
       "Premium Amount               0\n",
       "dtype: int64"
      ]
     },
     "execution_count": 6,
     "metadata": {},
     "output_type": "execute_result"
    }
   ],
   "source": [
    "#train.isnull().sum()"
   ]
  },
  {
   "cell_type": "code",
   "execution_count": 7,
   "id": "fdbeef26",
   "metadata": {},
   "outputs": [],
   "source": [
    "train1 = train.copy()\n",
    "train1['Occupation'] = train1['Occupation'].fillna('Unknown')\n",
    "\n",
    "train1['Previous Claims'] = train1['Previous Claims'].fillna(0)"
   ]
  },
  {
   "cell_type": "code",
   "execution_count": 8,
   "id": "df36968f",
   "metadata": {},
   "outputs": [],
   "source": [
    "train2 = train.copy()\n",
    "train2['Occupation'] = train2['Occupation'].fillna('Unknown')\n",
    "\n",
    "train2['Previous Claims'] = train2['Previous Claims'].astype('Int64')\n",
    "train2['Previous Claims'] = train2['Previous Claims'].astype('category')\n",
    "train2['Previous Claims'] = train2['Previous Claims'].cat.add_categories('Missing')\n",
    "train2['Previous Claims'] = train2['Previous Claims'].fillna('Missing')"
   ]
  },
  {
   "cell_type": "code",
   "execution_count": 9,
   "id": "c4d3f567",
   "metadata": {},
   "outputs": [],
   "source": [
    "train3 = train.copy()\n",
    "occupation_income_mean = train.groupby('Occupation')['Annual Income'].mean()\n",
    "def fill_occupation(row):\n",
    "   if pd.isnull(row['Occupation']):\n",
    "       diffs = (occupation_income_mean - row['Annual Income']).abs()\n",
    "       return diffs.idxmin()\n",
    "   else:\n",
    "       return row['Occupation']\n",
    "\n",
    "train3['Occupation'] = train3.apply(fill_occupation, axis=1)\n",
    "\n",
    "train3['Previous Claims'] = train3['Previous Claims'].fillna(0)"
   ]
  },
  {
   "cell_type": "code",
   "execution_count": 10,
   "id": "2f91f373",
   "metadata": {},
   "outputs": [],
   "source": [
    "train4 = train.copy()\n",
    "occupation_income_mean = train.groupby('Occupation')['Annual Income'].mean()\n",
    "def fill_occupation(row):\n",
    "   if pd.isnull(row['Occupation']):\n",
    "       diffs = (occupation_income_mean - row['Annual Income']).abs()\n",
    "       return diffs.idxmin()\n",
    "   else:\n",
    "       return row['Occupation']\n",
    "\n",
    "train4['Occupation'] = train4.apply(fill_occupation, axis=1)\n",
    "\n",
    "train4['Previous Claims'] = train4['Previous Claims'].astype('Int64')\n",
    "train4['Previous Claims'] = train4['Previous Claims'].astype('category')\n",
    "train4['Previous Claims'] = train4['Previous Claims'].cat.add_categories('Missing')\n",
    "train4['Previous Claims'] = train4['Previous Claims'].fillna('Missing')"
   ]
  },
  {
   "cell_type": "code",
   "execution_count": null,
   "id": "9701c51b",
   "metadata": {},
   "outputs": [],
   "source": [
    "import pandas as pd\n",
    "import numpy as np\n",
    "from catboost import CatBoostRegressor\n",
    "from sklearn.model_selection import train_test_split\n",
    "from sklearn.metrics import mean_absolute_error\n",
    "\n",
    "\n",
    "# 2. 타겟 설정\n",
    "target = 'Premium Amount'\n",
    "y1 = train1[target]\n",
    "X1 = train1.drop(columns=[target])\n",
    "\n",
    "\n",
    "# 3. 결측치 처리 및 범주형 컬럼 지정\n",
    "cat_features = X1.select_dtypes(include=['object', 'category']).columns.tolist()\n",
    "\n",
    "\n",
    "# NaN을 'Missing'으로 문자열 처리 (CatBoost 호환)\n",
    "for col in cat_features:\n",
    "    X1[col] = X1[col].astype(str).fillna(\"Missing\")\n",
    "\n",
    "\n",
    "# 숫자형 결측치 처리 (중앙값 대체)\n",
    "for col in X1.select_dtypes(include=[np.number]).columns:\n",
    "    if X1[col].isnull().sum() > 0:\n",
    "        X1[col] = X1[col].fillna(X1[col].median())\n",
    "\n",
    "\n",
    "# 4. 학습/검증 데이터 분리\n",
    "X_train1, X_val1, y_train1, y_val1 = train_test_split(X1, y1, test_size=0.2, random_state=42)\n",
    "\n",
    "\n",
    "# 5. 모델 정의\n",
    "model = CatBoostRegressor(\n",
    "    iterations=1000,\n",
    "    learning_rate=0.05,\n",
    "    depth=6,\n",
    "    eval_metric='MAE',\n",
    "    cat_features=cat_features,\n",
    "    random_seed=42,\n",
    "    verbose=100\n",
    ")\n",
    "\n",
    "\n",
    "# 6. 모델 학습\n",
    "model.fit(X_train1, y_train1, eval_set=(X_val1, y_val1), use_best_model=True)\n",
    "\n",
    "\n",
    "# 7. 예측 및 평가\n",
    "y_pred1 = model.predict(X_val1)\n",
    "print(f\":pushpin: MAE: {mean_absolute_error(y_val1, y_pred1):.4f}\")\n"
   ]
  }
 ],
 "metadata": {
  "kernelspec": {
   "display_name": "Python (yegun)",
   "language": "python",
   "name": "yegun"
  },
  "language_info": {
   "codemirror_mode": {
    "name": "ipython",
    "version": 3
   },
   "file_extension": ".py",
   "mimetype": "text/x-python",
   "name": "python",
   "nbconvert_exporter": "python",
   "pygments_lexer": "ipython3",
   "version": "3.12.3"
  }
 },
 "nbformat": 4,
 "nbformat_minor": 5
}
