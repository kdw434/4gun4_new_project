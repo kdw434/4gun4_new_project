{
 "cells": [
  {
   "cell_type": "markdown",
   "id": "78e1a30f",
   "metadata": {},
   "source": [
    "# 1. 데이터 로딩 & 기본 전처리"
   ]
  },
  {
   "cell_type": "code",
   "execution_count": null,
   "id": "51760c97",
   "metadata": {},
   "outputs": [],
   "source": [
    "import pandas as pd\n",
    "import numpy as np\n",
    "from sklearn.model_selection import train_test_split\n",
    "\n",
    "# 1-1) 데이터 로드\n",
    "df = pd.read_csv('train.csv')\n",
    "\n",
    "# 1-2) 불필요 컬럼 제거\n",
    "df.drop(columns=['id', 'Policy Start Date'], inplace=True)\n",
    "\n",
    "# 1-3) Previous Claims 전처리\n",
    "df['PrevClaims_na'] = df['Previous Claims'].isna().astype(int)\n",
    "df['Previous Claims'] = df['Previous Claims'].fillna(0)\n",
    "clip_val = df['Previous Claims'].quantile(0.95)\n",
    "df['Previous Claims'] = df['Previous Claims'].clip(upper=clip_val).astype('uint8')\n",
    "\n",
    "# 1-4) Health Score 전처리\n",
    "df['Health_na'] = df['Health Score'].isna().astype(int)\n",
    "median_health = df['Health Score'].median()\n",
    "df['Health Score'] = df['Health Score'].fillna(median_health)\n",
    "q1, q3 = df['Health Score'].quantile([0.25,0.75])\n",
    "iqr = q3 - q1\n",
    "lower, upper = q1 - 1.5*iqr, q3 + 1.5*iqr\n",
    "df['Health Score'] = df['Health Score'].clip(lower, upper).astype('float32')\n",
    "\n"
   ]
  },
  {
   "cell_type": "markdown",
   "id": "39b66eff",
   "metadata": {},
   "source": [
    "# 2. 도메인 기반 구간화 (Binning)\n"
   ]
  },
  {
   "cell_type": "code",
   "execution_count": 8,
   "id": "caeda9d9",
   "metadata": {},
   "outputs": [],
   "source": [
    "# Age\n",
    "bins_age = [17,25,35,45,55,100]\n",
    "labels_age = ['18-25','26-35','36-45','46-55','56+']\n",
    "df['Age_bin'] = pd.cut(df['Age'], bins=bins_age, labels=labels_age)\n",
    "\n",
    "# Credit Score\n",
    "bins_cr = [0,580,670,740,800,1000]\n",
    "labels_cr = ['Poor','Fair','Good','VeryGood','Excellent']\n",
    "df['Credit_bin'] = pd.cut(df['Credit Score'], bins=bins_cr, labels=labels_cr)\n",
    "\n",
    "# Health Score\n",
    "df['Health_bin'] = pd.qcut(df['Health Score'], q=[0,0.25,0.75,1.0],\n",
    "                           labels=['Low','Mid','High'])\n",
    "\n",
    "# Previous Claims\n",
    "df['PrevClaims_bin'] = pd.cut(df['Previous Claims'],\n",
    "                              bins=[-1,0,2,df['Previous Claims'].max()],\n",
    "                              labels=['0','1-2','3+'])\n"
   ]
  },
  {
   "cell_type": "markdown",
   "id": "7d9add46",
   "metadata": {},
   "source": [
    "# 3. 합성 리스크 스코어 생성\n"
   ]
  },
  {
   "cell_type": "code",
   "execution_count": 9,
   "id": "991759cd",
   "metadata": {},
   "outputs": [],
   "source": [
    "# 3단계: 합성 Risk Score 생성\n",
    "\n",
    "# 3-1) 각 구간을 숫자로 매핑할 딕셔너리 정의\n",
    "map_credit = {'Poor':1, 'Fair':2, 'Good':3, 'VeryGood':4, 'Excellent':5}\n",
    "map_health = {'Low':1, 'Mid':2, 'High':3}\n",
    "map_prev   = {'0':0, '1-2':1, '3+':2}\n",
    "\n",
    "# 3-2) 가중치 정의 (원하시는 대로 조정 가능)\n",
    "weights = {'Credit':1.0, 'Health':0.8, 'PrevClaims':1.2}\n",
    "\n",
    "# 3-3) 실제 계산 — Categorical → str → map → float 순으로 변환\n",
    "df['Risk_Score'] = (\n",
    "    df['Credit_bin'].astype(str).map(map_credit).astype(float) * weights['Credit']\n",
    "  + df['Health_bin'].astype(str).map(map_health).astype(float) * weights['Health']\n",
    "  + df['PrevClaims_bin'].astype(str).map(map_prev).astype(float) * weights['PrevClaims']\n",
    ")\n"
   ]
  },
  {
   "cell_type": "markdown",
   "id": "0baa7f8e",
   "metadata": {},
   "source": [
    "# 4. 인코딩 & 모델 입력 준비"
   ]
  },
  {
   "cell_type": "code",
   "execution_count": 10,
   "id": "427d0291",
   "metadata": {},
   "outputs": [],
   "source": [
    "from sklearn.preprocessing import LabelEncoder\n",
    "\n",
    "# 4-1) 구간화된 컬럼들만 Label Encoding\n",
    "bin_cols = ['Age_bin','Credit_bin','Health_bin','PrevClaims_bin']\n",
    "le_dict = {}\n",
    "for col in bin_cols:\n",
    "    # 문자열 카테고리를 0,1,2,… 숫자로 인코딩\n",
    "    le = LabelEncoder()\n",
    "    df[col + '_le'] = le.fit_transform(df[col].astype(str))\n",
    "    le_dict[col] = le\n",
    "\n",
    "# 4-2) 다른 범주형도 인코딩 (필요하다면)\n",
    "other_cat = ['Gender','Marital Status','Occupation','Location',\n",
    "             'Policy Type','Smoking Status','Exercise Frequency',\n",
    "             'Education Level','Number of Dependents','Property Type']\n",
    "for col in other_cat:\n",
    "    le = LabelEncoder()\n",
    "    df[col + '_le'] = le.fit_transform(df[col].astype(str))\n",
    "    le_dict[col] = le\n",
    "\n",
    "# 4-3) 최종 X, y 준비\n",
    "# 인코딩된 숫자 컬럼만 사용하도록 col 리스트 구성\n",
    "cat_cols_le = [c + '_le' for c in bin_cols + other_cat]\n",
    "num_cols = ['Age','Annual Income','Previous Claims','Health Score','Vehicle Age',\n",
    "            'Credit Score','Insurance Duration','Risk_Score']  # 필요에 맞게 조정\n",
    "\n",
    "X = df[cat_cols_le + num_cols]\n",
    "y = df['Premium Amount']"
   ]
  },
  {
   "cell_type": "markdown",
   "id": "1c1c08b9",
   "metadata": {},
   "source": [
    "# 4-1   파생변수 기입 TenureDays (가입 기간 일수), Income_per_Dependent, Feedback_Len & Feedback_Polarity, Age_Health & Credit_Health, PolicyStartMonth"
   ]
  },
  {
   "cell_type": "code",
   "execution_count": null,
   "id": "0353d061",
   "metadata": {},
   "outputs": [],
   "source": [
    "# import pandas as pd\n",
    "# import numpy as np\n",
    "# from textblob import TextBlob\n",
    "\n",
    "# # 1) 날짜 파생\n",
    "# df['PolicyStartDate'] = pd.to_datetime(df['Policy Start Date'])\n",
    "# df['PolicyStartMonth']   = df['PolicyStartDate'].dt.month\n",
    "# df['PolicyStartQuarter'] = df['PolicyStartDate'].dt.quarter\n",
    "# today = pd.to_datetime('2025-08-05')\n",
    "# df['TenureDays'] = (today - df['PolicyStartDate']).dt.days\n",
    "\n",
    "# # 2) 소득 파생\n",
    "# df['Income_per_Dependent'] = df['Annual Income'] / (1 + df['Number of Dependents'])\n",
    "# df['Income_log']           = np.log1p(df['Annual Income'])\n",
    "\n",
    "# # 3) 교호작용 파생\n",
    "# df['Age_Health']    = df['Age'] * df['Health Score']\n",
    "# df['Credit_Health'] = df['Credit Score'] * df['Health Score']\n",
    "# df['Credit_Income'] = df['Credit Score'] * df['Annual Income']\n",
    "\n",
    "# # 4) 피드백 파생\n",
    "# df['Customer Feedback']    = df['Customer Feedback'].fillna('')\n",
    "# df['Feedback_Len']         = df['Customer Feedback'].str.len()\n",
    "# df['Feedback_WordCnt']     = df['Customer Feedback'].str.split().map(len)\n",
    "# df['Feedback_Polarity']    = df['Customer Feedback']\\\n",
    "#     .apply(lambda x: TextBlob(x).sentiment.polarity)\n",
    "\n",
    "# # 5) 차량·유지 파생\n",
    "# df['VehicleAge_bin'] = pd.cut(df['Vehicle Age'],\n",
    "#     bins=[-1,3,7,100], labels=['0-3','4-7','8+'])\n",
    "# df['TenureYears']    = df['Insurance Duration'] / 365.0\n"
   ]
  },
  {
   "cell_type": "markdown",
   "id": "4cc536a4",
   "metadata": {},
   "source": [
    "# 5. 학습 & 평가 Tweedie 손실 함수 기반 모델 실험"
   ]
  },
  {
   "cell_type": "code",
   "execution_count": 12,
   "id": "c45a4629",
   "metadata": {},
   "outputs": [
    {
     "name": "stdout",
     "output_type": "stream",
     "text": [
      "0:\tlearn: 2099.7638604\ttest: 2100.1376825\tbest: 2100.1376825 (0)\ttotal: 917ms\tremaining: 7m 37s\n",
      "100:\tlearn: 133.3197544\ttest: 133.3378097\tbest: 133.3378097 (100)\ttotal: 1m 13s\tremaining: 4m 50s\n",
      "200:\tlearn: 132.4495890\ttest: 132.4774211\tbest: 132.4774211 (200)\ttotal: 2m 21s\tremaining: 3m 30s\n",
      "300:\tlearn: 132.3789427\ttest: 132.4155078\tbest: 132.4155078 (300)\ttotal: 3m 25s\tremaining: 2m 15s\n",
      "400:\tlearn: 132.3511200\ttest: 132.3935197\tbest: 132.3935197 (400)\ttotal: 4m 34s\tremaining: 1m 7s\n",
      "499:\tlearn: 132.3349281\ttest: 132.3829538\tbest: 132.3829288 (496)\ttotal: 5m 45s\tremaining: 0us\n",
      "\n",
      "bestTest = 132.3829288\n",
      "bestIteration = 496\n",
      "\n",
      "Shrink model to first 497 iterations.\n",
      "Tweedie Model Validation RMSE : 848.1744\n",
      "Tweedie Model Validation MAE  : 647.4286\n",
      "Tweedie Model Validation R²   : 0.0373\n"
     ]
    }
   ],
   "source": [
    "from catboost import CatBoostRegressor, Pool\n",
    "from sklearn.model_selection import train_test_split\n",
    "from sklearn.metrics import mean_squared_error, mean_absolute_error, r2_score\n",
    "import numpy as np\n",
    "\n",
    "# --- 5-1) 학습/검증 분리 (기존과 동일) ---\n",
    "X_tr, X_va, y_tr, y_va = train_test_split(\n",
    "    X, y, test_size=0.2, random_state=42\n",
    ")\n",
    "\n",
    "# --- 5-2) Pool 생성 (기존과 동일) ---\n",
    "train_pool = Pool(X_tr, y_tr, cat_features=cat_cols_le)\n",
    "val_pool   = Pool(X_va, y_va,   cat_features=cat_cols_le)\n",
    "\n",
    "# --- 5-3) Tweedie 손실 모델 정의 & 학습 ---\n",
    "tweedie_model = CatBoostRegressor(\n",
    "    loss_function='Tweedie:variance_power=1.5',\n",
    "    iterations=500,\n",
    "    learning_rate=0.05,\n",
    "    depth=6,\n",
    "    random_seed=42,\n",
    "    early_stopping_rounds=30,\n",
    "    verbose=100\n",
    ")\n",
    "tweedie_model.fit(train_pool, eval_set=val_pool)\n",
    "\n",
    "# --- 5-4) 예측 & 평가 (기존과 동일) ---\n",
    "preds = tweedie_model.predict(X_va)\n",
    "\n",
    "rmse = np.sqrt(mean_squared_error(y_va, preds))\n",
    "mae  = mean_absolute_error(y_va, preds)\n",
    "r2   = r2_score(y_va, preds)\n",
    "\n",
    "print(f\"Tweedie Model Validation RMSE : {rmse:.4f}\")\n",
    "print(f\"Tweedie Model Validation MAE  : {mae:.4f}\")\n",
    "print(f\"Tweedie Model Validation R²   : {r2:.4f}\")\n"
   ]
  },
  {
   "cell_type": "code",
   "execution_count": 13,
   "id": "1256e2fd",
   "metadata": {},
   "outputs": [],
   "source": [
    "# import pandas as pd\n",
    "# import numpy as np\n",
    "# from textblob import TextBlob\n",
    "\n",
    "# # 1) 날짜 파생\n",
    "# df['PolicyStartDate'] = pd.to_datetime(df['Policy Start Date'])\n",
    "# df['PolicyStartMonth']   = df['PolicyStartDate'].dt.month\n",
    "# df['PolicyStartQuarter'] = df['PolicyStartDate'].dt.quarter\n",
    "# today = pd.to_datetime('2025-08-05')\n",
    "# df['TenureDays'] = (today - df['PolicyStartDate']).dt.days\n",
    "\n",
    "# # 2) 소득 파생\n",
    "# df['Income_per_Dependent'] = df['Annual Income'] / (1 + df['Number of Dependents'])\n",
    "# df['Income_log']           = np.log1p(df['Annual Income'])\n",
    "\n",
    "# # 3) 교호작용 파생\n",
    "# df['Age_Health']    = df['Age'] * df['Health Score']\n",
    "# df['Credit_Health'] = df['Credit Score'] * df['Health Score']\n",
    "# df['Credit_Income'] = df['Credit Score'] * df['Annual Income']\n",
    "\n",
    "# # 4) 피드백 파생\n",
    "# df['Customer Feedback']    = df['Customer Feedback'].fillna('')\n",
    "# df['Feedback_Len']         = df['Customer Feedback'].str.len()\n",
    "# df['Feedback_WordCnt']     = df['Customer Feedback'].str.split().map(len)\n",
    "# df['Feedback_Polarity']    = df['Customer Feedback']\\\n",
    "#     .apply(lambda x: TextBlob(x).sentiment.polarity)\n",
    "\n",
    "# # 5) 차량·유지 파생\n",
    "# df['VehicleAge_bin'] = pd.cut(df['Vehicle Age'],\n",
    "#     bins=[-1,3,7,100], labels=['0-3','4-7','8+'])\n",
    "# df['TenureYears']    = df['Insurance Duration'] / 365.0\n"
   ]
  }
 ],
 "metadata": {
  "kernelspec": {
   "display_name": "Python 3",
   "language": "python",
   "name": "python3"
  },
  "language_info": {
   "codemirror_mode": {
    "name": "ipython",
    "version": 3
   },
   "file_extension": ".py",
   "mimetype": "text/x-python",
   "name": "python",
   "nbconvert_exporter": "python",
   "pygments_lexer": "ipython3",
   "version": "3.13.3"
  }
 },
 "nbformat": 4,
 "nbformat_minor": 5
}
