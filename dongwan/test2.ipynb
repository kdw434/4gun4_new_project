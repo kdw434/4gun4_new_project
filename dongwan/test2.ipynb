{
 "cells": [
  {
   "cell_type": "code",
   "execution_count": 1,
   "id": "26136a4e",
   "metadata": {},
   "outputs": [],
   "source": [
    "import pandas as pd \n",
    "\n",
    "test = pd.read_csv('test.csv')\n",
    "\n",
    "sample = pd.read_csv('sample_submission.csv')\n",
    "\n",
    "train = pd.read_csv('train.csv')"
   ]
  },
  {
   "cell_type": "markdown",
   "id": "8c120aaa",
   "metadata": {},
   "source": [
    "# 기본 전처리 "
   ]
  },
  {
   "cell_type": "code",
   "execution_count": 2,
   "id": "ed19f530",
   "metadata": {},
   "outputs": [],
   "source": [
    "# Number of Dependents: 구간화(Binning) & 결측 플래그 추가\n",
    "import numpy as np\n",
    "\n",
    "# Number of Dependents\n",
    "train['Number of Dependents'] = train['Number of Dependents'].astype('Int64')\n",
    "train['Number of Dependents'] = train['Number of Dependents'].astype('category')\n",
    "train['Number of Dependents'] = train['Number of Dependents'].cat.add_categories('Missing')\n",
    "train['Number of Dependents'] = train['Number of Dependents'].fillna('Missing')\n",
    "\n",
    "#결측 플래그 처리 컬럼 예시(Age, Annual Income, Health Score, Credit Score, Customer Feedback 등)\n",
    "\n",
    "# Age에 대한 중앙값 대체 예시\n",
    "train['Age'] = train['Age'].fillna(train['Age'].median())\n",
    "\n",
    "# Annual Income\n",
    "train['Annual Income'] = train['Annual Income'].fillna(train['Annual Income'].median())\n",
    "\n",
    "# Health Score\n",
    "train['Health Score'] = train['Health Score'].fillna(train['Health Score'].median())\n",
    "\n",
    "# Credit Score\n",
    "train['Credit Score'] = train['Credit Score'].fillna('Missing')\n",
    "\n",
    "# Customer Feedback\n",
    "train['Customer Feedback'] = train['Customer Feedback'].fillna('No Feedback')\n",
    "\n",
    "# Vehicle Age 결측 행 삭제\n",
    "train = train[train['Vehicle Age'].notnull()]\n",
    "\n",
    "# Insurance Duration 결측 행 삭제\n",
    "train = train[train['Insurance Duration'].notnull()]\n",
    "\n",
    "# Marital Status 결측치는 'Unknown'으로 대체\n",
    "train['Marital Status'] = train['Marital Status'].fillna('Unknown')"
   ]
  },
  {
   "cell_type": "code",
   "execution_count": 3,
   "id": "5da0dcba",
   "metadata": {},
   "outputs": [
    {
     "name": "stdout",
     "output_type": "stream",
     "text": [
      "결측 제거 후 행 개수 : 1199993\n",
      "id                           0\n",
      "Age                          0\n",
      "Gender                       0\n",
      "Annual Income                0\n",
      "Marital Status               0\n",
      "Number of Dependents         0\n",
      "Education Level              0\n",
      "Occupation              358074\n",
      "Health Score                 0\n",
      "Location                     0\n",
      "Policy Type                  0\n",
      "Previous Claims         364028\n",
      "Vehicle Age                  0\n",
      "Credit Score                 0\n",
      "Insurance Duration           0\n",
      "Policy Start Date            0\n",
      "Customer Feedback            0\n",
      "Smoking Status               0\n",
      "Exercise Frequency           0\n",
      "Property Type                0\n",
      "Premium Amount               0\n",
      "dtype: int64\n"
     ]
    }
   ],
   "source": [
    "print(\"결측 제거 후 행 개수 :\", len(train))\n",
    "\n",
    "print(train.isna().sum())"
   ]
  },
  {
   "cell_type": "markdown",
   "id": "d09a977f",
   "metadata": {},
   "source": [
    "# test2 1-1&2-2 train2"
   ]
  },
  {
   "cell_type": "code",
   "execution_count": 4,
   "id": "835f2ec3",
   "metadata": {},
   "outputs": [],
   "source": [
    "train2 = train.copy()\n",
    "train2['Occupation'] = train2['Occupation'].fillna('Unknown')\n",
    "\n",
    "\n",
    "train2['Previous Claims'] = train2['Previous Claims'].astype('Int64')\n",
    "train2['Previous Claims'] = train2['Previous Claims'].astype('category')\n",
    "train2['Previous Claims'] = train2['Previous Claims'].cat.add_categories('Missing')\n",
    "train2['Previous Claims'] = train2['Previous Claims'].fillna('Missing')"
   ]
  },
  {
   "cell_type": "markdown",
   "id": "b9a3676d",
   "metadata": {},
   "source": [
    "# train2 Catboost 적용\n"
   ]
  },
  {
   "cell_type": "code",
   "execution_count": 5,
   "id": "ed5ec83e",
   "metadata": {},
   "outputs": [
    {
     "name": "stdout",
     "output_type": "stream",
     "text": [
      "0:\tlearn: 667.9957958\ttest: 668.7504018\tbest: 668.7504018 (0)\ttotal: 1.17s\tremaining: 19m 28s\n",
      "100:\tlearn: 653.7569083\ttest: 654.0719997\tbest: 654.0719997 (100)\ttotal: 1m 34s\tremaining: 13m 56s\n",
      "200:\tlearn: 650.4555579\ttest: 650.7101920\tbest: 650.7101920 (200)\ttotal: 3m 13s\tremaining: 12m 48s\n",
      "300:\tlearn: 648.5507692\ttest: 648.7653519\tbest: 648.7653519 (300)\ttotal: 4m 51s\tremaining: 11m 16s\n",
      "400:\tlearn: 646.8784779\ttest: 647.0883025\tbest: 647.0764638 (398)\ttotal: 6m 28s\tremaining: 9m 39s\n",
      "500:\tlearn: 645.9964941\ttest: 646.2142727\tbest: 646.2127673 (496)\ttotal: 8m 13s\tremaining: 8m 11s\n",
      "600:\tlearn: 645.5947060\ttest: 645.9210703\tbest: 645.9114401 (584)\ttotal: 10m 6s\tremaining: 6m 42s\n",
      "700:\tlearn: 645.1294000\ttest: 645.5306877\tbest: 645.5276143 (693)\ttotal: 11m 47s\tremaining: 5m 1s\n",
      "800:\tlearn: 644.8586762\ttest: 645.3606559\tbest: 645.3532022 (789)\ttotal: 13m 39s\tremaining: 3m 23s\n",
      "900:\tlearn: 644.4804676\ttest: 645.0836087\tbest: 645.0824615 (897)\ttotal: 15m 21s\tremaining: 1m 41s\n",
      "999:\tlearn: 644.2272453\ttest: 644.9377799\tbest: 644.9242033 (984)\ttotal: 17m 2s\tremaining: 0us\n",
      "\n",
      "bestTest = 644.9242033\n",
      "bestIteration = 984\n",
      "\n",
      "Shrink model to first 985 iterations.\n",
      "train2 MAE:  644.9242\n",
      "train2 MSE:  717054.2292\n",
      "train2 RMSE: 846.7905\n",
      "train2 R2:   0.0460\n"
     ]
    }
   ],
   "source": [
    "import pandas as pd\n",
    "import numpy as np\n",
    "from catboost import CatBoostRegressor\n",
    "from sklearn.model_selection import train_test_split\n",
    "from sklearn.metrics import mean_absolute_error, mean_squared_error, r2_score\n",
    "\n",
    "# 2. 타겟 설정\n",
    "target2 = 'Premium Amount'\n",
    "y2 = train2[target2]\n",
    "X2 = train2.drop(columns=[target2])\n",
    "\n",
    "# 3. 결측치 처리 및 범주형 컬럼 지정\n",
    "cat_features2 = X2.select_dtypes(include=['object', 'category']).columns.tolist()\n",
    "\n",
    "\n",
    "# NaN을 문자열 'Missing'으로 변환 (CatBoost 호환)\n",
    "for col in cat_features2:\n",
    "   X2[col] = X2[col].astype(str).fillna(\"Missing\")\n",
    "\n",
    "\n",
    "# 숫자형 컬럼 NaN은 중앙값으로 대체\n",
    "for col in X2.select_dtypes(include=[np.number]).columns:\n",
    "   if X2[col].isnull().sum() > 0:\n",
    "       X2[col] = X2[col].fillna(X2[col].median())\n",
    "\n",
    "\n",
    "# 4. 학습/검증 데이터 분리\n",
    "X_train2, X_val2, y_train2, y_val2 = train_test_split(X2, y2, test_size=0.2, random_state=42)\n",
    "\n",
    "\n",
    "# 5. 모델 정의\n",
    "model2 = CatBoostRegressor(\n",
    "   iterations=1000,\n",
    "   learning_rate=0.05,\n",
    "   depth=6,\n",
    "   eval_metric='MAE',\n",
    "   cat_features=cat_features2,\n",
    "   random_seed=42,\n",
    "   verbose=100\n",
    ")\n",
    "\n",
    "# 6. 모델 학습\n",
    "model2.fit(X_train2, y_train2, eval_set=(X_val2, y_val2), use_best_model=True)\n",
    "\n",
    "# 예측 및 평가\n",
    "y_pred2 = model2.predict(X_val2)\n",
    "mae = mean_absolute_error(y_val2, y_pred2)\n",
    "mse = mean_squared_error(y_val2, y_pred2)\n",
    "rmse = np.sqrt(mse)\n",
    "r2 = r2_score(y_val2, y_pred2)\n",
    "\n",
    "print(f\"train2 MAE:  {mae:.4f}\")\n",
    "print(f\"train2 MSE:  {mse:.4f}\")\n",
    "print(f\"train2 RMSE: {rmse:.4f}\")\n",
    "print(f\"train2 R2:   {r2:.4f}\")\n"
   ]
  }
 ],
 "metadata": {
  "kernelspec": {
   "display_name": "Python 3",
   "language": "python",
   "name": "python3"
  },
  "language_info": {
   "codemirror_mode": {
    "name": "ipython",
    "version": 3
   },
   "file_extension": ".py",
   "mimetype": "text/x-python",
   "name": "python",
   "nbconvert_exporter": "python",
   "pygments_lexer": "ipython3",
   "version": "3.13.3"
  }
 },
 "nbformat": 4,
 "nbformat_minor": 5
}
