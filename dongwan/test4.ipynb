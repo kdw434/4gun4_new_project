{
 "cells": [
  {
   "cell_type": "code",
   "execution_count": 1,
   "id": "58ebe609",
   "metadata": {},
   "outputs": [],
   "source": [
    "import pandas as pd \n",
    "\n",
    "test = pd.read_csv('test.csv')\n",
    "\n",
    "sample = pd.read_csv('sample_submission.csv')\n",
    "\n",
    "train = pd.read_csv('train.csv')"
   ]
  },
  {
   "cell_type": "code",
   "execution_count": 2,
   "id": "f8921612",
   "metadata": {},
   "outputs": [],
   "source": [
    "# Number of Dependents: 구간화(Binning) & 결측 플래그 추가\n",
    "import numpy as np\n",
    "\n",
    "# Number of Dependents\n",
    "train['Number of Dependents'] = train['Number of Dependents'].astype('Int64')\n",
    "train['Number of Dependents'] = train['Number of Dependents'].astype('category')\n",
    "train['Number of Dependents'] = train['Number of Dependents'].cat.add_categories('Missing')\n",
    "train['Number of Dependents'] = train['Number of Dependents'].fillna('Missing')\n",
    "\n",
    "#결측 플래그 처리 컬럼 예시(Age, Annual Income, Health Score, Credit Score, Customer Feedback 등)\n",
    "\n",
    "# Age에 대한 중앙값 대체 예시\n",
    "train['Age'] = train['Age'].fillna(train['Age'].median())\n",
    "\n",
    "# Annual Income\n",
    "train['Annual Income'] = train['Annual Income'].fillna(train['Annual Income'].median())\n",
    "\n",
    "# Health Score\n",
    "train['Health Score'] = train['Health Score'].fillna(train['Health Score'].median())\n",
    "\n",
    "# Credit Score\n",
    "train['Credit Score'] = train['Credit Score'].fillna('Missing')\n",
    "\n",
    "# Customer Feedback\n",
    "train['Customer Feedback'] = train['Customer Feedback'].fillna('No Feedback')\n",
    "\n",
    "# Vehicle Age 결측 행 삭제\n",
    "train = train[train['Vehicle Age'].notnull()]\n",
    "\n",
    "# Insurance Duration 결측 행 삭제\n",
    "train = train[train['Insurance Duration'].notnull()]\n",
    "\n",
    "# Marital Status 결측치는 'Unknown'으로 대체\n",
    "train['Marital Status'] = train['Marital Status'].fillna('Unknown')"
   ]
  },
  {
   "cell_type": "code",
   "execution_count": 3,
   "id": "b6721932",
   "metadata": {},
   "outputs": [
    {
     "name": "stdout",
     "output_type": "stream",
     "text": [
      "결측 제거 후 행 개수 : 1199993\n",
      "id                           0\n",
      "Age                          0\n",
      "Gender                       0\n",
      "Annual Income                0\n",
      "Marital Status               0\n",
      "Number of Dependents         0\n",
      "Education Level              0\n",
      "Occupation              358074\n",
      "Health Score                 0\n",
      "Location                     0\n",
      "Policy Type                  0\n",
      "Previous Claims         364028\n",
      "Vehicle Age                  0\n",
      "Credit Score                 0\n",
      "Insurance Duration           0\n",
      "Policy Start Date            0\n",
      "Customer Feedback            0\n",
      "Smoking Status               0\n",
      "Exercise Frequency           0\n",
      "Property Type                0\n",
      "Premium Amount               0\n",
      "dtype: int64\n"
     ]
    }
   ],
   "source": [
    "print(\"결측 제거 후 행 개수 :\", len(train))\n",
    "\n",
    "print(train.isna().sum())"
   ]
  },
  {
   "cell_type": "markdown",
   "id": "f61476ef",
   "metadata": {},
   "source": [
    "# test4 1-2&2-2 train4\n"
   ]
  },
  {
   "cell_type": "code",
   "execution_count": 4,
   "id": "a3c5238a",
   "metadata": {},
   "outputs": [],
   "source": [
    "train4 = train.copy()\n",
    "occupation_income_mean = train.groupby('Occupation')['Annual Income'].mean()\n",
    "def fill_occupation(row):\n",
    "  if pd.isnull(row['Occupation']):\n",
    "      diffs = (occupation_income_mean - row['Annual Income']).abs()\n",
    "      return diffs.idxmin()\n",
    "  else:\n",
    "      return row['Occupation']\n",
    "\n",
    "\n",
    "train4['Occupation'] = train4.apply(fill_occupation, axis=1)\n",
    "\n",
    "\n",
    "train4['Previous Claims'] = train4['Previous Claims'].astype('Int64')\n",
    "train4['Previous Claims'] = train4['Previous Claims'].astype('category')\n",
    "train4['Previous Claims'] = train4['Previous Claims'].cat.add_categories('Missing')\n",
    "train4['Previous Claims'] = train4['Previous Claims'].fillna('Missing')"
   ]
  },
  {
   "cell_type": "markdown",
   "id": "f7106fd8",
   "metadata": {},
   "source": [
    "# train4 Catboost 적용\n"
   ]
  },
  {
   "cell_type": "code",
   "execution_count": 5,
   "id": "3b5b7e50",
   "metadata": {},
   "outputs": [
    {
     "name": "stdout",
     "output_type": "stream",
     "text": [
      "0:\tlearn: 667.9957958\ttest: 668.7504018\tbest: 668.7504018 (0)\ttotal: 1.08s\tremaining: 17m 55s\n",
      "100:\tlearn: 654.1391893\ttest: 654.4613850\tbest: 654.4613850 (100)\ttotal: 1m 31s\tremaining: 13m 36s\n",
      "200:\tlearn: 650.1962425\ttest: 650.3591072\tbest: 650.3591072 (200)\ttotal: 3m 8s\tremaining: 12m 29s\n",
      "300:\tlearn: 648.1702904\ttest: 648.2604486\tbest: 648.2604486 (300)\ttotal: 4m 48s\tremaining: 11m 10s\n",
      "400:\tlearn: 646.6817101\ttest: 646.8220760\tbest: 646.8220760 (400)\ttotal: 6m 23s\tremaining: 9m 32s\n",
      "500:\tlearn: 646.1328152\ttest: 646.3165737\tbest: 646.3155761 (499)\ttotal: 8m 4s\tremaining: 8m 2s\n",
      "600:\tlearn: 645.5366160\ttest: 645.7848910\tbest: 645.7848109 (599)\ttotal: 9m 40s\tremaining: 6m 25s\n",
      "700:\tlearn: 645.1220903\ttest: 645.4612904\tbest: 645.4568991 (690)\ttotal: 11m 21s\tremaining: 4m 50s\n",
      "800:\tlearn: 644.8164599\ttest: 645.2795833\tbest: 645.2699558 (794)\ttotal: 12m 57s\tremaining: 3m 13s\n",
      "900:\tlearn: 644.5489111\ttest: 645.1090732\tbest: 645.1027936 (896)\ttotal: 14m 42s\tremaining: 1m 36s\n",
      "999:\tlearn: 644.2624210\ttest: 644.9755472\tbest: 644.9685834 (939)\ttotal: 16m 22s\tremaining: 0us\n",
      "\n",
      "bestTest = 644.9685834\n",
      "bestIteration = 939\n",
      "\n",
      "Shrink model to first 940 iterations.\n",
      "train4 MAE:  644.9686\n",
      "train4 MSE:  717268.7642\n",
      "train4 RMSE: 846.9172\n",
      "train4 R2:   0.0457\n"
     ]
    }
   ],
   "source": [
    "import pandas as pd\n",
    "import numpy as np\n",
    "from catboost import CatBoostRegressor\n",
    "from sklearn.model_selection import train_test_split\n",
    "from sklearn.metrics import mean_absolute_error, mean_squared_error, r2_score\n",
    "\n",
    "# 2. 타겟 설정\n",
    "target4 = 'Premium Amount'\n",
    "y4 = train4[target4]\n",
    "X4 = train4.drop(columns=[target4])\n",
    "\n",
    "# 3. 결측치 처리 및 범주형 컬럼 지정\n",
    "cat_features4 = X4.select_dtypes(include=['object', 'category']).columns.tolist()\n",
    "\n",
    "\n",
    "# NaN을 문자열 'Missing'으로 변환 (CatBoost 호환)\n",
    "for col in cat_features4:\n",
    "   X4[col] = X4[col].astype(str).fillna(\"Missing\")\n",
    "\n",
    "\n",
    "# 숫자형 컬럼 NaN은 중앙값으로 대체\n",
    "for col in X4.select_dtypes(include=[np.number]).columns:\n",
    "   if X4[col].isnull().sum() > 0:\n",
    "       X4[col] = X4[col].fillna(X4[col].median())\n",
    "\n",
    "\n",
    "# 4. 학습/검증 데이터 분리\n",
    "X_train4, X_val4, y_train4, y_val4 = train_test_split(X4, y4, test_size=0.2, random_state=42)\n",
    "\n",
    "\n",
    "# 5. 모델 정의\n",
    "model4 = CatBoostRegressor(\n",
    "   iterations=1000,\n",
    "   learning_rate=0.05,\n",
    "   depth=6,\n",
    "   eval_metric='MAE',\n",
    "   cat_features=cat_features4,\n",
    "   random_seed=42,\n",
    "   verbose=100\n",
    ")\n",
    "\n",
    "# 6. 모델 학습\n",
    "model4.fit(X_train4, y_train4, eval_set=(X_val4, y_val4), use_best_model=True)\n",
    "\n",
    "# 예측 및 평가\n",
    "y_pred4 = model4.predict(X_val4)\n",
    "mae = mean_absolute_error(y_val4, y_pred4)\n",
    "mse = mean_squared_error(y_val4, y_pred4)\n",
    "rmse = np.sqrt(mse)\n",
    "r2 = r2_score(y_val4, y_pred4)\n",
    "\n",
    "print(f\"train4 MAE:  {mae:.4f}\")\n",
    "print(f\"train4 MSE:  {mse:.4f}\")\n",
    "print(f\"train4 RMSE: {rmse:.4f}\")\n",
    "print(f\"train4 R2:   {r2:.4f}\")"
   ]
  }
 ],
 "metadata": {
  "kernelspec": {
   "display_name": "Python 3",
   "language": "python",
   "name": "python3"
  },
  "language_info": {
   "codemirror_mode": {
    "name": "ipython",
    "version": 3
   },
   "file_extension": ".py",
   "mimetype": "text/x-python",
   "name": "python",
   "nbconvert_exporter": "python",
   "pygments_lexer": "ipython3",
   "version": "3.13.3"
  }
 },
 "nbformat": 4,
 "nbformat_minor": 5
}
