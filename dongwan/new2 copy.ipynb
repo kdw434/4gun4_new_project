{
 "cells": [
  {
   "cell_type": "markdown",
   "id": "78e1a30f",
   "metadata": {},
   "source": [
    "# 1. 데이터 로드 & 날짜 파생 후 불필요 컬럼 제거\n"
   ]
  },
  {
   "cell_type": "code",
   "execution_count": 1,
   "id": "51760c97",
   "metadata": {},
   "outputs": [],
   "source": [
    "import pandas as pd\n",
    "import numpy as np\n",
    "from textblob import TextBlob\n",
    "\n",
    "# 1-1) 데이터 로드\n",
    "df = pd.read_csv('train.csv')\n",
    "\n",
    "# 1-2) PolicyStartDate 파생\n",
    "df['PolicyStartDate'] = pd.to_datetime(df['Policy Start Date'], errors='coerce')\n",
    "\n",
    "# 1-3) 불필요 컬럼 삭제\n",
    "df.drop(columns=['id', 'Policy Start Date'], inplace=True)\n",
    "\n",
    "# 1-4) Previous Claims 결측·극단치 처리\n",
    "df['PrevClaims_na']       = df['Previous Claims'].isna().astype(int)\n",
    "df['Previous Claims']      = df['Previous Claims'].fillna(0)\n",
    "clip95                    = df['Previous Claims'].quantile(0.95)\n",
    "df['Previous Claims']      = df['Previous Claims'].clip(upper=clip95).astype('uint8')\n",
    "\n",
    "# 1-5) Health Score 결측·극단치 처리\n",
    "df['Health_na']            = df['Health Score'].isna().astype(int)\n",
    "med_h                      = df['Health Score'].median()\n",
    "df['Health Score']         = df['Health Score'].fillna(med_h)\n",
    "q1, q3                     = df['Health Score'].quantile([0.25,0.75])\n",
    "iqr                        = q3 - q1\n",
    "df['Health Score']         = df['Health Score'].clip(q1-1.5*iqr, q3+1.5*iqr).astype('float32')\n",
    "\n"
   ]
  },
  {
   "cell_type": "markdown",
   "id": "39b66eff",
   "metadata": {},
   "source": [
    "# 2. 풍부한 파생변수 생성\n"
   ]
  },
  {
   "cell_type": "code",
   "execution_count": 2,
   "id": "caeda9d9",
   "metadata": {},
   "outputs": [],
   "source": [
    "# 2-1) 날짜 파생 (이미 만든 PolicyStartDate 사용)\n",
    "df['PolicyStartMonth']  = df['PolicyStartDate'].dt.month\n",
    "df['PolicyStartQuarter']= df['PolicyStartDate'].dt.quarter\n",
    "today                   = pd.to_datetime('2025-08-05')\n",
    "df['TenureDays']        = (today - df['PolicyStartDate']).dt.days\n",
    "\n",
    "# 2-2) 소득 파생\n",
    "df['Income_per_Dependent'] = df['Annual Income'] / (1 + df['Number of Dependents'])\n",
    "df['Income_log']           = np.log1p(df['Annual Income'])\n",
    "\n",
    "# 2-3) 교호작용 파생\n",
    "df['Age_Health']       = df['Age'] * df['Health Score']\n",
    "df['Credit_Health']    = df['Credit Score'] * df['Health Score']\n",
    "df['Credit_Income']    = df['Credit Score'] * df['Annual Income']\n",
    "\n",
    "# 2-4) 고객 피드백 텍스트 파생\n",
    "df['Customer Feedback']   = df['Customer Feedback'].fillna('')\n",
    "df['Feedback_Len']        = df['Customer Feedback'].str.len()\n",
    "df['Feedback_WordCnt']    = df['Customer Feedback'].str.split().map(len)\n",
    "df['Feedback_Polarity']   = df['Customer Feedback']\\\n",
    "                              .apply(lambda x: TextBlob(x).sentiment.polarity)\n",
    "\n",
    "# 2-5) 차량·유지 기간 파생\n",
    "df['VehicleAge_bin']   = pd.cut(df['Vehicle Age'],\n",
    "                                bins=[-1,3,7,100], labels=['0-3','4-7','8+'])\n",
    "df['TenureYears']      = df['Insurance Duration'] / 365.0\n"
   ]
  },
  {
   "cell_type": "markdown",
   "id": "7d9add46",
   "metadata": {},
   "source": [
    "# 3. 도메인 기반 Binning & Risk Score\n"
   ]
  },
  {
   "cell_type": "code",
   "execution_count": 3,
   "id": "991759cd",
   "metadata": {},
   "outputs": [],
   "source": [
    "# 3-1) Binning\n",
    "df['Age_bin']         = pd.cut(df['Age'],\n",
    "                               bins=[17,25,35,45,55,100],\n",
    "                               labels=['18-25','26-35','36-45','46-55','56+'])\n",
    "df['Credit_bin']      = pd.cut(df['Credit Score'],\n",
    "                               bins=[0,580,670,740,800,1000],\n",
    "                               labels=['Poor','Fair','Good','VeryGood','Excellent'])\n",
    "df['Health_bin']      = pd.qcut(df['Health Score'],\n",
    "                               q=[0,0.25,0.75,1.0],\n",
    "                               labels=['Low','Mid','High'])\n",
    "df['PrevClaims_bin']  = pd.cut(df['Previous Claims'],\n",
    "                               bins=[-1,0,2,df['Previous Claims'].max()],\n",
    "                               labels=['0','1-2','3+'])\n",
    "\n",
    "# 3-2) 합성 Risk Score\n",
    "map_credit = {'Poor':1,'Fair':2,'Good':3,'VeryGood':4,'Excellent':5}\n",
    "map_health = {'Low':1,'Mid':2,'High':3}\n",
    "map_prev   = {'0':0,'1-2':1,'3+':2}\n",
    "weights    = {'Credit':1.0,'Health':0.8,'PrevClaims':1.2}\n",
    "\n",
    "df['Risk_Score'] = (\n",
    "    df['Credit_bin'].astype(str).map(map_credit).astype(float)*weights['Credit'] +\n",
    "    df['Health_bin'].astype(str).map(map_health).astype(float)*weights['Health'] +\n",
    "    df['PrevClaims_bin'].astype(str).map(map_prev).astype(float)*weights['PrevClaims']\n",
    ")\n"
   ]
  },
  {
   "cell_type": "markdown",
   "id": "0baa7f8e",
   "metadata": {},
   "source": [
    "# 4. 인코딩 & 피처셋 구성"
   ]
  },
  {
   "cell_type": "code",
   "execution_count": 4,
   "id": "427d0291",
   "metadata": {},
   "outputs": [],
   "source": [
    "from sklearn.preprocessing import LabelEncoder\n",
    "\n",
    "# 4-1) 범주형 → 숫자 인코딩\n",
    "cat_cols = [\n",
    "    'Age_bin','Credit_bin','Health_bin','PrevClaims_bin',\n",
    "    'PolicyStartMonth','PolicyStartQuarter','VehicleAge_bin',\n",
    "    'Gender','Marital Status','Occupation','Location',\n",
    "    'Policy Type','Smoking Status','Exercise Frequency',\n",
    "    'Education Level','Number of Dependents','Property Type'\n",
    "]\n",
    "le_dict = {}\n",
    "for col in cat_cols:\n",
    "    le = LabelEncoder()\n",
    "    df[col + '_le'] = le.fit_transform(df[col].astype(str))\n",
    "    le_dict[col] = le\n",
    "\n",
    "# 4-2) 최종 X, y 정의\n",
    "feature_cols = [\n",
    "    *[c + '_le' for c in cat_cols],\n",
    "    'Annual Income','Income_per_Dependent','Income_log',\n",
    "    'Age_Health','Credit_Health','Credit_Income',\n",
    "    'Feedback_Len','Feedback_WordCnt','Feedback_Polarity',\n",
    "    'TenureDays','TenureYears','Risk_Score'\n",
    "]\n",
    "X = df[feature_cols]\n",
    "y = df['Premium Amount']\n",
    "cat_features_le = [c + '_le' for c in cat_cols]"
   ]
  },
  {
   "cell_type": "markdown",
   "id": "4cc536a4",
   "metadata": {},
   "source": [
    "# 5. 학습 & 평가 (k-Fold + Tweedie)\n"
   ]
  },
  {
   "cell_type": "code",
   "execution_count": 5,
   "id": "c45a4629",
   "metadata": {},
   "outputs": [
    {
     "name": "stdout",
     "output_type": "stream",
     "text": [
      "CV RMSE : 851.9773 ± 0.9447\n",
      "CV MAE  : 652.1679 ± 0.2607\n",
      "CV R²   : 0.0299 ± 0.0006\n"
     ]
    }
   ],
   "source": [
    "from catboost import CatBoostRegressor, Pool\n",
    "from sklearn.model_selection import KFold\n",
    "from sklearn.metrics import mean_squared_error, mean_absolute_error, r2_score\n",
    "import numpy as np\n",
    "\n",
    "kf = KFold(n_splits=5, shuffle=True, random_state=42)\n",
    "rmses, maes, r2s = [], [], []\n",
    "\n",
    "for train_idx, val_idx in kf.split(X):\n",
    "    X_tr, X_va = X.iloc[train_idx], X.iloc[val_idx]\n",
    "    y_tr, y_va = y.iloc[train_idx], y.iloc[val_idx]\n",
    "\n",
    "    pool_tr = Pool(X_tr, y_tr, cat_features=cat_features_le)\n",
    "    pool_va = Pool(X_va, y_va, cat_features=cat_features_le)\n",
    "\n",
    "    model = CatBoostRegressor(\n",
    "        loss_function='Tweedie:variance_power=1.5',\n",
    "        iterations=500,\n",
    "        learning_rate=0.05,\n",
    "        depth=6,\n",
    "        random_seed=42,\n",
    "        early_stopping_rounds=30,\n",
    "        verbose=0\n",
    "    )\n",
    "    model.fit(pool_tr, eval_set=pool_va)\n",
    "\n",
    "    pred = model.predict(X_va)\n",
    "    rmses.append(np.sqrt(mean_squared_error(y_va, pred)))\n",
    "    maes.append(mean_absolute_error(y_va, pred))\n",
    "    r2s.append(r2_score(y_va, pred))\n",
    "\n",
    "print(f\"CV RMSE : {np.mean(rmses):.4f} ± {np.std(rmses):.4f}\")\n",
    "print(f\"CV MAE  : {np.mean(maes):.4f} ± {np.std(maes):.4f}\")\n",
    "print(f\"CV R²   : {np.mean(r2s):.4f} ± {np.std(r2s):.4f}\")\n"
   ]
  }
 ],
 "metadata": {
  "kernelspec": {
   "display_name": "Python 3",
   "language": "python",
   "name": "python3"
  },
  "language_info": {
   "codemirror_mode": {
    "name": "ipython",
    "version": 3
   },
   "file_extension": ".py",
   "mimetype": "text/x-python",
   "name": "python",
   "nbconvert_exporter": "python",
   "pygments_lexer": "ipython3",
   "version": "3.13.3"
  }
 },
 "nbformat": 4,
 "nbformat_minor": 5
}
