{
 "cells": [
  {
   "cell_type": "code",
   "execution_count": 2,
   "id": "c27431e2",
   "metadata": {},
   "outputs": [],
   "source": [
    "import pandas as pd \n",
    "\n",
    "test = pd.read_csv('test.csv')\n",
    "\n",
    "sample = pd.read_csv('sample_submission.csv')\n",
    "\n",
    "train = pd.read_csv('train.csv')"
   ]
  },
  {
   "cell_type": "markdown",
   "id": "5fd90733",
   "metadata": {},
   "source": [
    "# 전처리 "
   ]
  },
  {
   "cell_type": "code",
   "execution_count": 3,
   "id": "1b415398",
   "metadata": {},
   "outputs": [],
   "source": [
    "import numpy as np\n",
    "\n",
    "\n",
    "# Number of Dependents\n",
    "train['Number of Dependents'] = train['Number of Dependents'].astype('Int64')\n",
    "train['Number of Dependents'] = train['Number of Dependents'].astype('category')\n",
    "train['Number of Dependents'] = train['Number of Dependents'].cat.add_categories('Missing')\n",
    "train['Number of Dependents'] = train['Number of Dependents'].fillna('Missing')\n",
    "\n",
    "\n",
    "# Age\n",
    "train['Age'] = train['Age'].fillna(train['Age'].median())\n",
    "\n",
    "\n",
    "# Annual Income\n",
    "train['Annual Income'] = train['Annual Income'].fillna(train['Annual Income'].median())\n",
    "\n",
    "\n",
    "# Health Score\n",
    "train['Health Score'] = train['Health Score'].fillna(train['Health Score'].median())\n",
    "\n",
    "\n",
    "# Credit Score\n",
    "train['Credit Score'] = train['Credit Score'].fillna('Missing')\n",
    "\n",
    "\n",
    "# Customer Feedback\n",
    "train['Customer Feedback'] = train['Customer Feedback'].fillna('No Feedback')\n",
    "\n",
    "\n",
    "# Marital Status\n",
    "train['Marital Status'] = train['Marital Status'].fillna('Unknown')\n",
    "\n",
    "\n",
    "# Vehicle Age 결측 행 삭제\n",
    "train = train[train['Vehicle Age'].notnull()]\n",
    "\n",
    "\n",
    "# Insurance Duration 결측 행 삭제\n",
    "train = train[train['Insurance Duration'].notnull()]"
   ]
  },
  {
   "cell_type": "code",
   "execution_count": 4,
   "id": "628284ea",
   "metadata": {},
   "outputs": [
    {
     "data": {
      "text/plain": [
       "id                           0\n",
       "Age                          0\n",
       "Gender                       0\n",
       "Annual Income                0\n",
       "Marital Status               0\n",
       "Number of Dependents         0\n",
       "Education Level              0\n",
       "Occupation              358074\n",
       "Health Score                 0\n",
       "Location                     0\n",
       "Policy Type                  0\n",
       "Previous Claims         364028\n",
       "Vehicle Age                  0\n",
       "Credit Score                 0\n",
       "Insurance Duration           0\n",
       "Policy Start Date            0\n",
       "Customer Feedback            0\n",
       "Smoking Status               0\n",
       "Exercise Frequency           0\n",
       "Property Type                0\n",
       "Premium Amount               0\n",
       "dtype: int64"
      ]
     },
     "execution_count": 4,
     "metadata": {},
     "output_type": "execute_result"
    }
   ],
   "source": [
    "train.isnull().sum()"
   ]
  },
  {
   "cell_type": "markdown",
   "id": "65ff85cb",
   "metadata": {},
   "source": [
    "# train1 1-1 unknown으로 대체  2-1 0값으로 처리(수집 시 0을 null로 기입했을 가능성)"
   ]
  },
  {
   "cell_type": "code",
   "execution_count": 5,
   "id": "8ad526e4",
   "metadata": {},
   "outputs": [],
   "source": [
    "train1 = train.copy()\n",
    "train1['Occupation'] = train1['Occupation'].fillna('Unknown')\n",
    "\n",
    "\n",
    "train1['Previous Claims'] = train1['Previous Claims'].fillna(0)"
   ]
  },
  {
   "cell_type": "code",
   "execution_count": 6,
   "id": "2c98145c",
   "metadata": {},
   "outputs": [
    {
     "data": {
      "text/plain": [
       "id                      0\n",
       "Age                     0\n",
       "Gender                  0\n",
       "Annual Income           0\n",
       "Marital Status          0\n",
       "Number of Dependents    0\n",
       "Education Level         0\n",
       "Occupation              0\n",
       "Health Score            0\n",
       "Location                0\n",
       "Policy Type             0\n",
       "Previous Claims         0\n",
       "Vehicle Age             0\n",
       "Credit Score            0\n",
       "Insurance Duration      0\n",
       "Policy Start Date       0\n",
       "Customer Feedback       0\n",
       "Smoking Status          0\n",
       "Exercise Frequency      0\n",
       "Property Type           0\n",
       "Premium Amount          0\n",
       "dtype: int64"
      ]
     },
     "execution_count": 6,
     "metadata": {},
     "output_type": "execute_result"
    }
   ],
   "source": [
    "train1.isnull().sum()"
   ]
  },
  {
   "cell_type": "markdown",
   "id": "f32c101f",
   "metadata": {},
   "source": [
    "# train1 Catboost 적용\n"
   ]
  },
  {
   "cell_type": "code",
   "execution_count": null,
   "id": "c1d38ae4",
   "metadata": {},
   "outputs": [
    {
     "name": "stdout",
     "output_type": "stream",
     "text": [
      "0:\tlearn: 667.9864127\ttest: 668.7337461\tbest: 668.7337461 (0)\ttotal: 1.11s\tremaining: 18m 30s\n",
      "100:\tlearn: 653.8314582\ttest: 654.4972113\tbest: 654.4972113 (100)\ttotal: 1m 41s\tremaining: 15m 1s\n",
      "200:\tlearn: 650.5209692\ttest: 651.1096608\tbest: 651.1096608 (200)\ttotal: 3m 13s\tremaining: 12m 48s\n",
      "300:\tlearn: 648.0365892\ttest: 648.6548364\tbest: 648.6548364 (300)\ttotal: 4m 56s\tremaining: 11m 27s\n",
      "400:\tlearn: 646.5200491\ttest: 647.0460065\tbest: 647.0460065 (400)\ttotal: 6m 45s\tremaining: 10m 6s\n",
      "500:\tlearn: 645.8414141\ttest: 646.4735110\tbest: 646.4735110 (500)\ttotal: 8m 46s\tremaining: 8m 44s\n",
      "600:\tlearn: 645.3976426\ttest: 646.1379266\tbest: 646.1379266 (600)\ttotal: 10m 33s\tremaining: 7m\n",
      "700:\tlearn: 645.0681170\ttest: 645.9437184\tbest: 645.9437184 (700)\ttotal: 12m 31s\tremaining: 5m 20s\n",
      "800:\tlearn: 644.3945388\ttest: 645.3196472\tbest: 645.3196472 (800)\ttotal: 14m 20s\tremaining: 3m 33s\n",
      "900:\tlearn: 644.0194156\ttest: 645.0804568\tbest: 645.0752155 (894)\ttotal: 16m 5s\tremaining: 1m 46s\n",
      "999:\tlearn: 643.6440439\ttest: 644.7858252\tbest: 644.7856554 (996)\ttotal: 17m 52s\tremaining: 0us\n",
      "\n",
      "bestTest = 644.7856554\n",
      "bestIteration = 996\n",
      "\n",
      "Shrink model to first 997 iterations.\n",
      "644.7857\n"
     ]
    }
   ],
   "source": [
    "import pandas as pd\n",
    "import numpy as np\n",
    "from catboost import CatBoostRegressor\n",
    "from sklearn.model_selection import train_test_split\n",
    "from sklearn.metrics import mean_absolute_error, mean_squared_error, r2_score\n",
    "\n",
    "\n",
    "# 2. 타겟 설정\n",
    "target1 = 'Premium Amount'\n",
    "y1 = train1[target1]\n",
    "X1 = train1.drop(columns=[target1])\n",
    "\n",
    "# 3. 결측치 처리 및 범주형 컬럼 지정\n",
    "cat_features1 = X1.select_dtypes(include=['object', 'category']).columns.tolist()\n",
    "\n",
    "# NaN을 문자열 'Missing'으로 변환 (CatBoost 호환)\n",
    "for col in cat_features1:\n",
    "  X1[col] = X1[col].astype(str).fillna(\"Missing\")\n",
    "\n",
    "# 숫자형 컬럼 NaN은 중앙값으로 대체\n",
    "for col in X1.select_dtypes(include=[np.number]).columns:\n",
    "  if X1[col].isnull().sum() > 0:\n",
    "      X1[col] = X1[col].fillna(X1[col].median())\n",
    "\n",
    "# 4. 학습/검증 데이터 분리\n",
    "X_train1, X_val1, y_train1, y_val1 = train_test_split(X1, y1, test_size=0.2, random_state=42)\n",
    "\n",
    "# 5. 모델 정의\n",
    "model1 = CatBoostRegressor(\n",
    "  iterations=1000,\n",
    "  learning_rate=0.05,\n",
    "  depth=6,\n",
    "  eval_metric='MAE',\n",
    "  cat_features=cat_features1,\n",
    "  random_seed=42,\n",
    "  verbose=100\n",
    ")\n",
    "\n",
    "# 6. 모델 학습\n",
    "model1.fit(X_train1, y_train1, eval_set=(X_val1, y_val1), use_best_model=True)\n",
    "\n",
    "# 예측 및 평가\n",
    "y_pred1 = model1.predict(X_val1)\n",
    "mae = mean_absolute_error(y_val1, y_pred1)\n",
    "mse = mean_squared_error(y_val1, y_pred1)\n",
    "rmse = np.sqrt(mse)\n",
    "r2 = r2_score(y_val1, y_pred1)\n",
    "\n",
    "print(f\"train3 MAE:  {mae:.4f}\")\n",
    "print(f\"train3 MSE:  {mse:.4f}\")\n",
    "print(f\"train3 RMSE: {rmse:.4f}\")\n",
    "print(f\"train3 R2:   {r2:.4f}\")"
   ]
  },
  {
   "cell_type": "code",
   "execution_count": 11,
   "id": "4a308752",
   "metadata": {},
   "outputs": [
    {
     "name": "stdout",
     "output_type": "stream",
     "text": [
      "Mean Premium: 1102.54\n",
      "Validation MAE: 644.79\n",
      "MAPE: 58.48%\n"
     ]
    }
   ],
   "source": [
    "mean_premium = train1['Premium Amount'].mean()\n",
    "mae = 644.7857\n",
    "mape = mae / mean_premium * 100\n",
    "print(f\"Mean Premium: {mean_premium:.2f}\")\n",
    "print(f\"Validation MAE: {mae:.2f}\")\n",
    "print(f\"MAPE: {mape:.2f}%\")\n"
   ]
  },
  {
   "cell_type": "code",
   "execution_count": 10,
   "id": "43971667",
   "metadata": {},
   "outputs": [
    {
     "ename": "NameError",
     "evalue": "name 'model1' is not defined",
     "output_type": "error",
     "traceback": [
      "\u001b[31m---------------------------------------------------------------------------\u001b[39m",
      "\u001b[31mNameError\u001b[39m                                 Traceback (most recent call last)",
      "\u001b[36mCell\u001b[39m\u001b[36m \u001b[39m\u001b[32mIn[10]\u001b[39m\u001b[32m, line 2\u001b[39m\n\u001b[32m      1\u001b[39m \u001b[38;5;28;01mimport\u001b[39;00m\u001b[38;5;250m \u001b[39m\u001b[34;01mpandas\u001b[39;00m\u001b[38;5;250m \u001b[39m\u001b[38;5;28;01mas\u001b[39;00m\u001b[38;5;250m \u001b[39m\u001b[34;01mpd\u001b[39;00m\n\u001b[32m----> \u001b[39m\u001b[32m2\u001b[39m fi = pd.Series(\u001b[43mmodel1\u001b[49m.get_feature_importance(), index=X_train1.columns)\n\u001b[32m      3\u001b[39m fi.sort_values(ascending=\u001b[38;5;28;01mFalse\u001b[39;00m).head(\u001b[32m10\u001b[39m)\n",
      "\u001b[31mNameError\u001b[39m: name 'model1' is not defined"
     ]
    }
   ],
   "source": [
    "import pandas as pd\n",
    "fi = pd.Series(model1.get_feature_importance(), index=X_train1.columns)\n",
    "fi.sort_values(ascending=False).head(10)\n"
   ]
  },
  {
   "cell_type": "code",
   "execution_count": 8,
   "id": "9e0dec4f",
   "metadata": {},
   "outputs": [
    {
     "data": {
      "text/plain": [
       "id                         int64\n",
       "Age                      float64\n",
       "Gender                    object\n",
       "Annual Income            float64\n",
       "Marital Status            object\n",
       "Number of Dependents    category\n",
       "Education Level           object\n",
       "Occupation                object\n",
       "Health Score             float64\n",
       "Location                  object\n",
       "Policy Type               object\n",
       "Previous Claims          float64\n",
       "Vehicle Age              float64\n",
       "Credit Score              object\n",
       "Insurance Duration       float64\n",
       "Policy Start Date         object\n",
       "Customer Feedback         object\n",
       "Smoking Status            object\n",
       "Exercise Frequency        object\n",
       "Property Type             object\n",
       "Premium Amount           float64\n",
       "dtype: object"
      ]
     },
     "execution_count": 8,
     "metadata": {},
     "output_type": "execute_result"
    }
   ],
   "source": [
    "train1.dtypes\n"
   ]
  },
  {
   "cell_type": "markdown",
   "id": "5f33b7b7",
   "metadata": {},
   "source": [
    "# 모델 개선도 "
   ]
  },
  {
   "cell_type": "markdown",
   "id": "8b207e73",
   "metadata": {},
   "source": [
    "# 상관계수 시각화"
   ]
  },
  {
   "cell_type": "code",
   "execution_count": null,
   "id": "83fafc76",
   "metadata": {},
   "outputs": [],
   "source": [
    "# import pandas as pd\n",
    "# import numpy as np\n",
    "# import seaborn as sns\n",
    "# import matplotlib.pyplot as plt\n",
    "# import scipy.stats as stats\n",
    "# from sklearn.feature_selection import mutual_info_regression\n",
    "# from sklearn.preprocessing import LabelEncoder\n",
    "# # 전처리: Number_of_Dependents_bin 생성\n",
    "# train['Number of Dependents'] = train['Number of Dependents'].fillna(0)\n",
    "# def bin_dependents(x):\n",
    "#     if x == 0:\n",
    "#         return '0'\n",
    "#     elif x <= 2:\n",
    "#         return '1-2'\n",
    "#     else:\n",
    "#         return '3+'\n",
    "# train['Number_of_Dependents_bin'] = train['Number of Dependents'].apply(bin_dependents)\n",
    "# # 1) 수치형 간 Pearson 상관분석\n",
    "# num_cols = ['Age', 'Annual Income', 'Health Score', 'Vehicle Age', 'Insurance Duration']\n",
    "# corr = train[num_cols].corr(method='pearson')\n",
    "# plt.figure(figsize=(8, 6))\n",
    "# sns.heatmap(corr, annot=True, cmap='coolwarm', square=True)\n",
    "# plt.title(':막대_차트: Pearson Correlation: Numeric Features')\n",
    "# plt.show()\n",
    "# # 2) 범주형-수치형 분석: Boxplot + ANOVA\n",
    "# sns.boxplot(x='Marital Status', y='Age', data=train)\n",
    "# plt.title(':다트: Age by Marital Status')\n",
    "# plt.show()\n",
    "# grouped = [train.loc[train['Marital Status'] == g, 'Age'].dropna() for g in train['Marital Status'].unique()]\n",
    "# anova_result = stats.f_oneway(*grouped)\n",
    "# print('ANOVA p-value:', anova_result.pvalue)\n",
    "# # 3) 범주형-범주형 분석: 카이제곱 + Cramér’s V + Countplot\n",
    "# contingency = pd.crosstab(train['Marital Status'], train['Number_of_Dependents_bin'])\n",
    "# chi2, p, dof, expected = stats.chi2_contingency(contingency)\n",
    "# print('Chi2-test p-value:', p)\n",
    "# def cramers_v(conf_matrix):\n",
    "#     chi2 = stats.chi2_contingency(conf_matrix)[0]\n",
    "#     n = conf_matrix.sum().sum()\n",
    "#     r, k = conf_matrix.shape\n",
    "#     return np.sqrt(chi2 / (n * (min(r, k)-1)))\n",
    "# print(\"Cramér’s V:\", cramers_v(contingency))\n",
    "# sns.countplot(data=train, x='Marital Status', hue='Number_of_Dependents_bin')\n",
    "# plt.title(':포장: Countplot of Marital Status by Dependents Bin')\n",
    "# plt.xticks(rotation=45)\n",
    "# plt.tight_layout()\n",
    "# plt.show()\n",
    "# # 4) Mutual Information 분석 (혼합형)\n",
    "# df_enc = train.copy()\n",
    "\n",
    "# # ––––– 범주형 변수 인코딩 –––––\n",
    "# for col in df_enc.select_dtypes(include=['object', 'category']).columns:\n",
    "#     df_enc[col] = LabelEncoder().fit_transform(df_enc[col].astype(str))\n",
    "\n",
    "# # ––––– X, y 준비 –––––\n",
    "# y = df_enc['Premium Amount']\n",
    "# X = df_enc.drop(columns=['Premium Amount'])\n",
    "\n",
    "# # ––––– NaN 있는 행 제거 –––––\n",
    "# mask = X.notnull().all(axis=1)\n",
    "# X_clean = X[mask]\n",
    "# y_clean = y[mask]\n",
    "\n",
    "# # ––––– Mutual Information 계산 –––––\n",
    "# mi = mutual_info_regression(X_clean, y_clean, discrete_features='auto')\n",
    "# mi_df = pd.DataFrame({'feature': X_clean.columns, 'mutual_info': mi})\n",
    "# mi_df = mi_df.sort_values(by='mutual_info', ascending=False)\n",
    "\n",
    "# # ––––– 결과 시각화 –––––\n",
    "# plt.figure(figsize=(12, 6))\n",
    "# sns.barplot(x='feature', y='mutual_info', data=mi_df)\n",
    "# plt.title(':뇌: Mutual Information with Target')\n",
    "# plt.xticks(rotation=90)\n",
    "# plt.tight_layout()\n",
    "# plt.show()"
   ]
  }
 ],
 "metadata": {
  "kernelspec": {
   "display_name": "Python 3",
   "language": "python",
   "name": "python3"
  },
  "language_info": {
   "codemirror_mode": {
    "name": "ipython",
    "version": 3
   },
   "file_extension": ".py",
   "mimetype": "text/x-python",
   "name": "python",
   "nbconvert_exporter": "python",
   "pygments_lexer": "ipython3",
   "version": "3.13.3"
  }
 },
 "nbformat": 4,
 "nbformat_minor": 5
}
