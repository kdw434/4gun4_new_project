{
 "cells": [
  {
   "cell_type": "markdown",
   "id": "070d8d3d",
   "metadata": {},
   "source": [
    "# 1. 데이터 로딩 & 기본 전처리"
   ]
  },
  {
   "cell_type": "code",
   "execution_count": 2,
   "id": "2fa22bd9",
   "metadata": {},
   "outputs": [],
   "source": [
    "import pandas as pd\n",
    "import numpy as np\n",
    "from sklearn.model_selection import train_test_split\n",
    "\n",
    "# 1-1) 데이터 로드\n",
    "df = pd.read_csv('train.csv')\n",
    "\n",
    "# 1-2) 불필요 컬럼 제거\n",
    "df.drop(columns=['id', 'Policy Start Date'], inplace=True)\n",
    "\n",
    "# 1-3) Previous Claims 전처리\n",
    "df['PrevClaims_na'] = df['Previous Claims'].isna().astype(int)\n",
    "df['Previous Claims'] = df['Previous Claims'].fillna(0)\n",
    "clip_val = df['Previous Claims'].quantile(0.95)\n",
    "df['Previous Claims'] = df['Previous Claims'].clip(upper=clip_val).astype('uint8')\n",
    "\n",
    "# 1-4) Health Score 전처리\n",
    "df['Health_na'] = df['Health Score'].isna().astype(int)\n",
    "median_health = df['Health Score'].median()\n",
    "df['Health Score'] = df['Health Score'].fillna(median_health)\n",
    "q1, q3 = df['Health Score'].quantile([0.25,0.75])\n",
    "iqr = q3 - q1\n",
    "lower, upper = q1 - 1.5*iqr, q3 + 1.5*iqr\n",
    "df['Health Score'] = df['Health Score'].clip(lower, upper).astype('float32')\n"
   ]
  },
  {
   "cell_type": "markdown",
   "id": "b72675e6",
   "metadata": {},
   "source": [
    "# 2. 도메인 기반 구간화 (Binning)\n"
   ]
  },
  {
   "cell_type": "code",
   "execution_count": 3,
   "id": "d32a4cd8",
   "metadata": {},
   "outputs": [],
   "source": [
    "# Age\n",
    "bins_age = [17,25,35,45,55,100]\n",
    "labels_age = ['18-25','26-35','36-45','46-55','56+']\n",
    "df['Age_bin'] = pd.cut(df['Age'], bins=bins_age, labels=labels_age)\n",
    "\n",
    "# Credit Score\n",
    "bins_cr = [0,580,670,740,800,1000]\n",
    "labels_cr = ['Poor','Fair','Good','VeryGood','Excellent']\n",
    "df['Credit_bin'] = pd.cut(df['Credit Score'], bins=bins_cr, labels=labels_cr)\n",
    "\n",
    "# Health Score\n",
    "df['Health_bin'] = pd.qcut(df['Health Score'], q=[0,0.25,0.75,1.0],\n",
    "                           labels=['Low','Mid','High'])\n",
    "\n",
    "# Previous Claims\n",
    "df['PrevClaims_bin'] = pd.cut(df['Previous Claims'],\n",
    "                              bins=[-1,0,2,df['Previous Claims'].max()],\n",
    "                              labels=['0','1-2','3+'])\n"
   ]
  },
  {
   "cell_type": "markdown",
   "id": "5681011d",
   "metadata": {},
   "source": [
    "# 3. 합성 리스크 스코어 생성\n"
   ]
  },
  {
   "cell_type": "code",
   "execution_count": 6,
   "id": "b2a50022",
   "metadata": {},
   "outputs": [],
   "source": [
    "# 3-1) 매핑 & 숫자 변환\n",
    "credit_num = df['Credit_bin'].astype(str).map(map_credit).astype(float)\n",
    "health_num = df['Health_bin'].astype(str).map(map_health).astype(float)\n",
    "prev_num   = df['PrevClaims_bin'].astype(str).map(map_prev).astype(float)\n",
    "\n",
    "# 3-2) 합성 Risk Score 계산\n",
    "df['Risk_Score'] = (\n",
    "    credit_num * weights['Credit'] +\n",
    "    health_num * weights['Health'] +\n",
    "    prev_num   * weights['PrevClaims']\n",
    ")"
   ]
  },
  {
   "cell_type": "markdown",
   "id": "1c9b57e7",
   "metadata": {},
   "source": [
    "# 4. 인코딩 & 모델 입력 준비"
   ]
  },
  {
   "cell_type": "code",
   "execution_count": 13,
   "id": "d6b9e9e2",
   "metadata": {},
   "outputs": [],
   "source": [
    "from sklearn.preprocessing import LabelEncoder\n",
    "\n",
    "# 4-1) 구간화된 컬럼들만 Label Encoding\n",
    "bin_cols = ['Age_bin','Credit_bin','Health_bin','PrevClaims_bin']\n",
    "le_dict = {}\n",
    "for col in bin_cols:\n",
    "    # 문자열 카테고리를 0,1,2,… 숫자로 인코딩\n",
    "    le = LabelEncoder()\n",
    "    df[col + '_le'] = le.fit_transform(df[col].astype(str))\n",
    "    le_dict[col] = le\n",
    "\n",
    "# 4-2) 다른 범주형도 인코딩 (필요하다면)\n",
    "other_cat = ['Gender','Marital Status','Occupation','Location',\n",
    "             'Policy Type','Smoking Status','Exercise Frequency',\n",
    "             'Education Level','Number of Dependents','Property Type']\n",
    "for col in other_cat:\n",
    "    le = LabelEncoder()\n",
    "    df[col + '_le'] = le.fit_transform(df[col].astype(str))\n",
    "    le_dict[col] = le\n",
    "\n",
    "# 4-3) 최종 X, y 준비\n",
    "# 인코딩된 숫자 컬럼만 사용하도록 col 리스트 구성\n",
    "cat_cols_le = [c + '_le' for c in bin_cols + other_cat]\n",
    "num_cols = ['Age','Annual Income','Previous Claims','Health Score','Vehicle Age',\n",
    "            'Credit Score','Insurance Duration','Risk_Score']  # 필요에 맞게 조정\n",
    "\n",
    "X = df[cat_cols_le + num_cols]\n",
    "y = df['Premium Amount']\n",
    "\n"
   ]
  },
  {
   "cell_type": "markdown",
   "id": "7cca979a",
   "metadata": {},
   "source": [
    "# 5. 학습 & 평가 (CatBoost 회귀)"
   ]
  },
  {
   "cell_type": "code",
   "execution_count": 14,
   "id": "e35a5cbe",
   "metadata": {},
   "outputs": [
    {
     "name": "stdout",
     "output_type": "stream",
     "text": [
      "0:\tlearn: 864.1600341\ttest: 863.4862553\tbest: 863.4862553 (0)\ttotal: 976ms\tremaining: 16m 15s\n",
      "100:\tlearn: 850.8071590\ttest: 850.6957856\tbest: 850.6957856 (100)\ttotal: 1m 8s\tremaining: 10m 12s\n",
      "200:\tlearn: 849.4974670\ttest: 849.6279905\tbest: 849.6279905 (200)\ttotal: 2m 7s\tremaining: 8m 27s\n",
      "300:\tlearn: 848.4709070\ttest: 848.7616923\tbest: 848.7616923 (299)\ttotal: 2m 59s\tremaining: 6m 57s\n",
      "400:\tlearn: 847.6067472\ttest: 848.1117011\tbest: 848.1117011 (400)\ttotal: 4m 2s\tremaining: 6m 1s\n",
      "500:\tlearn: 847.1311863\ttest: 847.8346045\tbest: 847.8346045 (500)\ttotal: 5m 2s\tremaining: 5m\n",
      "600:\tlearn: 846.7424752\ttest: 847.5839800\tbest: 847.5839800 (600)\ttotal: 6m 4s\tremaining: 4m 1s\n",
      "700:\tlearn: 846.4097948\ttest: 847.4541511\tbest: 847.4536275 (697)\ttotal: 7m 6s\tremaining: 3m 1s\n",
      "800:\tlearn: 846.0274140\ttest: 847.2518577\tbest: 847.2501992 (796)\ttotal: 8m 9s\tremaining: 2m 1s\n",
      "900:\tlearn: 845.7958317\ttest: 847.1754991\tbest: 847.1754991 (900)\ttotal: 9m 11s\tremaining: 1m\n",
      "999:\tlearn: 845.5009440\ttest: 847.0792028\tbest: 847.0792028 (999)\ttotal: 10m 12s\tremaining: 0us\n",
      "\n",
      "bestTest = 847.0792028\n",
      "bestIteration = 999\n",
      "\n",
      "Validation RMSE : 847.0792\n",
      "Validation MAE  : 646.2400\n",
      "Validation R²   : 0.0398\n"
     ]
    }
   ],
   "source": [
    "from catboost import CatBoostRegressor, Pool\n",
    "from sklearn.model_selection import train_test_split\n",
    "from sklearn.metrics import mean_squared_error, mean_absolute_error, r2_score\n",
    "import numpy as np\n",
    "\n",
    "# 5-1) 학습/검증 분리\n",
    "X_train, X_val, y_train, y_val = train_test_split(\n",
    "    X, y, test_size=0.2, random_state=42\n",
    ")\n",
    "\n",
    "# 5-2) Pool 생성 — cat_features 로는 LE된 컬럼명을 사용\n",
    "train_pool = Pool(X_train, y_train, cat_features=cat_cols_le)\n",
    "val_pool   = Pool(X_val,   y_val,   cat_features=cat_cols_le)\n",
    "\n",
    "# 5-3) 모델 학습\n",
    "model = CatBoostRegressor(\n",
    "    iterations=1000,\n",
    "    learning_rate=0.05,\n",
    "    depth=6,\n",
    "    random_seed=42,\n",
    "    early_stopping_rounds=50,\n",
    "    verbose=100\n",
    ")\n",
    "model.fit(train_pool, eval_set=val_pool)\n",
    "\n",
    "# 5-4) 예측\n",
    "preds = model.predict(X_val)\n",
    "\n",
    "# 5-5) 평가\n",
    "rmse = np.sqrt(mean_squared_error(y_val, preds))\n",
    "mae  = mean_absolute_error(y_val, preds)\n",
    "r2   = r2_score(y_val, preds)\n",
    "\n",
    "print(f\"Validation RMSE : {rmse:.4f}\")\n",
    "print(f\"Validation MAE  : {mae:.4f}\")\n",
    "print(f\"Validation R²   : {r2:.4f}\")\n"
   ]
  },
  {
   "cell_type": "code",
   "execution_count": 15,
   "id": "af107064",
   "metadata": {},
   "outputs": [
    {
     "name": "stdout",
     "output_type": "stream",
     "text": [
      "CV RMSE : 847.8654 ± 0.8391\n",
      "CV MAE  : 647.6859 ± 0.1465\n",
      "CV R²   : 0.0392 ± 0.0008\n"
     ]
    }
   ],
   "source": [
    "import numpy as np\n",
    "from sklearn.model_selection import KFold\n",
    "from sklearn.metrics import mean_squared_error, mean_absolute_error, r2_score\n",
    "from catboost import CatBoostRegressor, Pool\n",
    "\n",
    "# 1) KFold 세팅\n",
    "kf = KFold(n_splits=5, shuffle=True, random_state=42)\n",
    "\n",
    "# 2) 결과 저장용 리스트\n",
    "rmses, maes, r2s = [], [], []\n",
    "\n",
    "# 3) Fold별 학습 & 평가\n",
    "for train_idx, val_idx in kf.split(X):\n",
    "    X_tr, X_va = X.iloc[train_idx], X.iloc[val_idx]\n",
    "    y_tr, y_va = y.iloc[train_idx], y.iloc[val_idx]\n",
    "\n",
    "    # Pool 생성\n",
    "    train_pool = Pool(X_tr, y_tr, cat_features=cat_cols_le)\n",
    "    val_pool   = Pool(X_va, y_va, cat_features=cat_cols_le)\n",
    "\n",
    "    # 모델 정의 & 학습 (verbose 숨김)\n",
    "    model = CatBoostRegressor(\n",
    "        iterations=500,\n",
    "        learning_rate=0.05,\n",
    "        depth=6,\n",
    "        random_seed=42,\n",
    "        early_stopping_rounds=50,\n",
    "        verbose=0\n",
    "    )\n",
    "    model.fit(train_pool, eval_set=val_pool)\n",
    "\n",
    "    # 예측\n",
    "    preds = model.predict(X_va)\n",
    "\n",
    "    # 지표 계산\n",
    "    rmses.append(np.sqrt(mean_squared_error(y_va, preds)))\n",
    "    maes.append(mean_absolute_error(y_va, preds))\n",
    "    r2s.append(r2_score(y_va, preds))\n",
    "\n",
    "# 4) Fold 평균·표준편차 출력\n",
    "print(f\"CV RMSE : {np.mean(rmses):.4f} ± {np.std(rmses):.4f}\")\n",
    "print(f\"CV MAE  : {np.mean(maes):.4f} ± {np.std(maes):.4f}\")\n",
    "print(f\"CV R²   : {np.mean(r2s):.4f} ± {np.std(r2s):.4f}\")\n"
   ]
  }
 ],
 "metadata": {
  "kernelspec": {
   "display_name": "Python 3",
   "language": "python",
   "name": "python3"
  },
  "language_info": {
   "codemirror_mode": {
    "name": "ipython",
    "version": 3
   },
   "file_extension": ".py",
   "mimetype": "text/x-python",
   "name": "python",
   "nbconvert_exporter": "python",
   "pygments_lexer": "ipython3",
   "version": "3.13.3"
  }
 },
 "nbformat": 4,
 "nbformat_minor": 5
}
