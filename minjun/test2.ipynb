{
 "cells": [
  {
   "cell_type": "code",
   "execution_count": 2,
   "id": "e12ebc4b",
   "metadata": {},
   "outputs": [],
   "source": [
    "import pandas as pd"
   ]
  },
  {
   "cell_type": "code",
   "execution_count": 3,
   "id": "875f857a",
   "metadata": {},
   "outputs": [],
   "source": [
    "df = pd.read_csv('/Users/minjunkim/Documents/GitHub/4gun4_new_project/minjun/train.csv')"
   ]
  },
  {
   "cell_type": "code",
   "execution_count": null,
   "id": "3ced49e2",
   "metadata": {},
   "outputs": [],
   "source": []
  }
 ],
 "metadata": {
  "kernelspec": {
   "display_name": "Python 3",
   "language": "python",
   "name": "python3"
  },
  "language_info": {
   "codemirror_mode": {
    "name": "ipython",
    "version": 3
   },
   "file_extension": ".py",
   "mimetype": "text/x-python",
   "name": "python",
   "nbconvert_exporter": "python",
   "pygments_lexer": "ipython3",
   "version": "3.13.4"
  }
 },
 "nbformat": 4,
 "nbformat_minor": 5
}
