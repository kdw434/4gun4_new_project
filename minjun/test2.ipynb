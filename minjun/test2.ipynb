{
 "cells": [
  {
   "cell_type": "code",
   "execution_count": 10,
   "id": "e12ebc4b",
   "metadata": {},
   "outputs": [],
   "source": [
    "import pandas as pd"
   ]
  },
  {
   "cell_type": "code",
   "execution_count": 19,
   "id": "875f857a",
   "metadata": {},
   "outputs": [],
   "source": [
    "df = pd.read_csv('/Users/minjunkim/Documents/GitHub/4gun4_new_project/minjun/train.csv')"
   ]
  },
  {
   "cell_type": "code",
   "execution_count": 21,
   "id": "d88b3bd0",
   "metadata": {},
   "outputs": [],
   "source": [
    "train = df.copy()"
   ]
  },
  {
   "cell_type": "code",
   "execution_count": 22,
   "id": "a474c432",
   "metadata": {},
   "outputs": [],
   "source": [
    "import numpy as np\n",
    "\n",
    "\n",
    "# Number of Dependents\n",
    "train['Number of Dependents'] = train['Number of Dependents'].astype('Int64')\n",
    "train['Number of Dependents'] = train['Number of Dependents'].astype('category')\n",
    "train['Number of Dependents'] = train['Number of Dependents'].cat.add_categories('Missing')\n",
    "train['Number of Dependents'] = train['Number of Dependents'].fillna('Missing')\n",
    "\n",
    "\n",
    "# Age\n",
    "train['Age'] = train['Age'].fillna(train['Age'].median())\n",
    "\n",
    "\n",
    "# Annual Income\n",
    "train['Annual Income'] = train['Annual Income'].fillna(train['Annual Income'].median())\n",
    "\n",
    "\n",
    "# Health Score\n",
    "train['Health Score'] = train['Health Score'].fillna(train['Health Score'].median())\n",
    "\n",
    "\n",
    "# Credit Score\n",
    "train['Credit Score'] = train['Credit Score'].fillna('Missing')\n",
    "\n",
    "\n",
    "# Customer Feedback\n",
    "train['Customer Feedback'] = train['Customer Feedback'].fillna('No Feedback')\n",
    "\n",
    "\n",
    "# Marital Status\n",
    "train['Marital Status'] = train['Marital Status'].fillna('Unknown')\n",
    "\n",
    "\n",
    "# Vehicle Age 결측 행 삭제\n",
    "train = train[train['Vehicle Age'].notnull()]\n",
    "\n",
    "\n",
    "# Insurance Duration 결측 행 삭제\n",
    "train = train[train['Insurance Duration'].notnull()]"
   ]
  },
  {
   "cell_type": "code",
   "execution_count": 16,
   "id": "fa2d75f0",
   "metadata": {},
   "outputs": [
    {
     "name": "stdout",
     "output_type": "stream",
     "text": [
      "Requirement already satisfied: scikit-learn in /Library/Frameworks/Python.framework/Versions/3.13/lib/python3.13/site-packages (1.6.1)\n",
      "Requirement already satisfied: numpy>=1.19.5 in /Library/Frameworks/Python.framework/Versions/3.13/lib/python3.13/site-packages (from scikit-learn) (2.2.6)\n",
      "Requirement already satisfied: scipy>=1.6.0 in /Library/Frameworks/Python.framework/Versions/3.13/lib/python3.13/site-packages (from scikit-learn) (1.16.0)\n",
      "Requirement already satisfied: joblib>=1.2.0 in /Library/Frameworks/Python.framework/Versions/3.13/lib/python3.13/site-packages (from scikit-learn) (1.5.1)\n",
      "Requirement already satisfied: threadpoolctl>=3.1.0 in /Library/Frameworks/Python.framework/Versions/3.13/lib/python3.13/site-packages (from scikit-learn) (3.6.0)\n",
      "\n",
      "\u001b[1m[\u001b[0m\u001b[34;49mnotice\u001b[0m\u001b[1;39;49m]\u001b[0m\u001b[39;49m A new release of pip is available: \u001b[0m\u001b[31;49m25.1.1\u001b[0m\u001b[39;49m -> \u001b[0m\u001b[32;49m25.2\u001b[0m\n",
      "\u001b[1m[\u001b[0m\u001b[34;49mnotice\u001b[0m\u001b[1;39;49m]\u001b[0m\u001b[39;49m To update, run: \u001b[0m\u001b[32;49mpip3 install --upgrade pip\u001b[0m\n",
      "Note: you may need to restart the kernel to use updated packages.\n"
     ]
    }
   ],
   "source": [
    "pip install scikit-learn\n"
   ]
  },
  {
   "cell_type": "code",
   "execution_count": 23,
   "id": "70fe62a3",
   "metadata": {},
   "outputs": [
    {
     "name": "stdout",
     "output_type": "stream",
     "text": [
      "결측치 수 (수치형 컬럼 기준):\n",
      "id                      0\n",
      "Age                     0\n",
      "Gender                  0\n",
      "Annual Income           0\n",
      "Marital Status          0\n",
      "Number of Dependents    0\n",
      "Education Level         0\n",
      "Occupation              0\n",
      "Health Score            0\n",
      "Location                0\n",
      "Policy Type             0\n",
      "Previous Claims         0\n",
      "Vehicle Age             0\n",
      "Credit Score            0\n",
      "Insurance Duration      0\n",
      "Policy Start Date       0\n",
      "Customer Feedback       0\n",
      "Smoking Status          0\n",
      "Exercise Frequency      0\n",
      "Property Type           0\n",
      "Premium Amount          0\n",
      "dtype: int64\n"
     ]
    }
   ],
   "source": [
    "import pandas as pd\n",
    "import numpy as np\n",
    "from sklearn.impute import KNNImputer\n",
    "\n",
    "# 1. 수치형 컬럼만 선택\n",
    "num_cols = train5.select_dtypes(include=[np.number]).columns\n",
    "numeric_df = train5[num_cols]\n",
    "\n",
    "# 2. KNNImputer 적용\n",
    "imputer = KNNImputer(n_neighbors=5)\n",
    "imputed_numeric = pd.DataFrame(imputer.fit_transform(numeric_df), columns=num_cols)\n",
    "\n",
    "# 3. 원본 train5의 수치형 컬럼에 다시 넣기\n",
    "train5[num_cols] = imputed_numeric\n",
    "\n",
    "# 4. 결측치 확인\n",
    "print(\"결측치 수 (수치형 컬럼 기준):\")\n",
    "print(train5[num_cols].isnull().sum())\n"
   ]
  },
  {
   "cell_type": "markdown",
   "id": "6d31647d",
   "metadata": {},
   "source": [
    "✅범주별로 전처리하기"
   ]
  }
 ],
 "metadata": {
  "kernelspec": {
   "display_name": "Python 3",
   "language": "python",
   "name": "python3"
  },
  "language_info": {
   "codemirror_mode": {
    "name": "ipython",
    "version": 3
   },
   "file_extension": ".py",
   "mimetype": "text/x-python",
   "name": "python",
   "nbconvert_exporter": "python",
   "pygments_lexer": "ipython3",
   "version": "3.13.4"
  }
 },
 "nbformat": 4,
 "nbformat_minor": 5
}
